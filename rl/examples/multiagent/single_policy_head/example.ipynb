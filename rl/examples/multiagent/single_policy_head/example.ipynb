{
 "cells": [
  {
   "cell_type": "code",
   "execution_count": 7,
   "metadata": {},
   "outputs": [],
   "source": [
    "from ray.tune.registry import register_env\n",
    "from pycigar.utils.registry import make_create_env\n",
    "import yaml\n",
    "import argparse\n",
    "import ray\n",
    "from ray import tune\n",
    "\n",
    "parser = argparse.ArgumentParser()\n",
    "parser.add_argument(\"--run\", type=str, default=\"PPO\")  # try PG, PPO, IMPALA\n",
    "parser.add_argument(\"--stop\", type=int, default=0)\n",
    "\n",
    "stream = open(\"../rl_config_scenarios.yaml\", \"r\")\n",
    "sim_params = yaml.safe_load(stream)\n",
    "\n",
    "pycigar_params = {\"exp_tag\": \"cooperative_multiagent_ppo\",\n",
    "                  \"env_name\": \"SingleDiscreteCoopEnv\",\n",
    "                  \"sim_params\": sim_params,\n",
    "                  \"simulator\": \"opendss\",\n",
    "                  \"tracking_ids\": ['pv_8', 'pv_9', 'pv_12']}"
   ]
  },
  {
   "cell_type": "code",
   "execution_count": null,
   "metadata": {},
   "outputs": [],
   "source": [
    "create_env, env_name = make_create_env(params=pycigar_params, version=0)\n",
    "register_env(env_name, create_env)\n",
    "\n",
    "test_env = create_env()\n",
    "obs_space = test_env.observation_space\n",
    "act_space = test_env.action_space"
   ]
  },
  {
   "cell_type": "code",
   "execution_count": 6,
   "metadata": {},
   "outputs": [
    {
     "data": {
      "text/plain": [
       "({'pv_8': array([[ 1.02326127e+00,  1.02326260e+00,  1.02326330e+00,\n",
       "           1.02326335e+00],\n",
       "         [ 5.82013299e+01,  5.81659590e+01,  5.81280250e+01,\n",
       "           5.80874645e+01],\n",
       "         [ 2.31001854e-02,  2.09002282e-02,  1.89097663e-02,\n",
       "           1.71088536e-02],\n",
       "         [-5.82408090e+01, -5.82345925e+01, -5.82250662e+01,\n",
       "          -5.82123079e+01],\n",
       "         [ 1.46179796e+01,  1.46428003e+01,  1.46682274e+01,\n",
       "           1.46943302e+01]]),\n",
       "  'pv_9': array([[ 1.02325008e+00,  1.02325146e+00,  1.02325221e+00,\n",
       "           1.02325231e+00],\n",
       "         [ 6.58782460e+01,  6.59105818e+01,  6.59437719e+01,\n",
       "           6.59778329e+01],\n",
       "         [ 2.30862125e-02,  2.08875883e-02,  1.88983321e-02,\n",
       "           1.70985097e-02],\n",
       "         [-6.55308754e+01, -6.55704092e+01, -6.56092066e+01,\n",
       "          -6.56474416e+01],\n",
       "         [ 2.37988380e+01,  2.38025604e+01,  2.38043802e+01,\n",
       "           2.38043341e+01]])},\n",
       " {'pv_8': -0.00029253595240493445, 'pv_9': -0.00029253595240493445},\n",
       " {'__all__': False},\n",
       " {'pv_8': {}, 'pv_9': {}})"
      ]
     },
     "execution_count": 6,
     "metadata": {},
     "output_type": "execute_result"
    }
   ],
   "source": [
    "if __name__ == \"__main__\":\n",
    "    ray.init()\n",
    "    args = parser.parse_args()\n",
    "    tune.run(\n",
    "        args.run,\n",
    "        stop={\"episode_reward_mean\": args.stop},\n",
    "        config={\n",
    "            \"env\": env_name,\n",
    "            \"gamma\": 0.5,\n",
    "            'model': {'conv_filters': None, 'conv_activation': 'relu',\n",
    "                      'fcnet_activation': 'tanh', 'fcnet_hiddens': [256, 256],\n",
    "                      'free_log_std': False, 'no_final_linear': False, 'vf_share_layers': True,\n",
    "                      'use_lstm': False, 'max_seq_len': 20, 'lstm_cell_size': 256,\n",
    "                      'lstm_use_prev_action_reward': False, 'state_shape': None,\n",
    "                      'framestack': False, 'dim': 84, 'grayscale': False,\n",
    "                      'zero_mean': True, 'custom_preprocessor': None,\n",
    "                      'custom_model': None, 'custom_action_dist': None, 'custom_options': {}},\n",
    "            \"num_gpus\": 0,\n",
    "            'multiagent': {\n",
    "                \"policies\": {\n",
    "                    \"pol\": (None, obs_space, act_space, {}),\n",
    "                },\n",
    "                \"policy_mapping_fn\": lambda x: \"pol\",\n",
    "            }\n",
    "        })\n"
   ]
  }
 ],
 "metadata": {
  "kernelspec": {
   "display_name": "Python 3",
   "language": "python",
   "name": "python3"
  },
  "language_info": {
   "codemirror_mode": {
    "name": "ipython",
    "version": 3
   },
   "file_extension": ".py",
   "mimetype": "text/x-python",
   "name": "python",
   "nbconvert_exporter": "python",
   "pygments_lexer": "ipython3",
   "version": "3.6.8"
  }
 },
 "nbformat": 4,
 "nbformat_minor": 2
}
