{
 "cells": [
  {
   "cell_type": "code",
   "execution_count": 1,
   "metadata": {},
   "outputs": [],
   "source": [
    "import ray\n",
    "from ray import tune\n",
    "from ray.rllib.agents.ppo import PPOTrainer\n",
    "from ray.rllib.agents.ppo import APPOTrainer\n",
    "import argparse\n",
    "from ray.tune.registry import register_env\n",
    "from pycigar.utils.registry import make_create_env\n",
    "import yaml\n",
    "import time\n",
    "from pycigar.utils.input_parser import input_parser\n",
    "\n",
    "SAVE_RATE = 2\n",
    "\n",
    "\"\"\"\n",
    "Parser to pass argument from terminal command\n",
    "--run: RL algorithm, ex. PG, PPO, IMPALA\n",
    "--stop: stop criteria of experiment. The experiment will stop when mean reward reach to this value.\n",
    "Example of terminal command:\n",
    "  > python single_relative_discrete_2_lr.py --run PPO --stop 0\n",
    "\"\"\"\n",
    "parser = argparse.ArgumentParser()\n",
    "parser.add_argument(\"--run\", type=str, default=\"PPO\")  # try PG, PPO, IMPALA\n",
    "parser.add_argument(\"--stop\", type=int, default=0)\n",
    "\n",
    "\"\"\"\n",
    "Load the scenarios configuration file. This file contains the scenario information\n",
    "for the experiment.\n",
    "\"\"\"\n",
    "sim_params = input_parser('ieee37busdata')\n",
    "\n",
    "\"\"\"\n",
    "Register the environment to OpenGymAI. This is necessary, RLlib can find the new environment\n",
    "with string name env_name_v:version:, ex. SingleRelativeDiscreteCoopEnv_v0.\n",
    "env_name: name of environment being used.\n",
    "sim_params: simulation params, it is the scenario configuration.\n",
    "simulator: the simulator being used, ex. opendss, gridlabd...\n",
    "tracking_ids: list of ids of devices being tracked during the experiment.\n",
    "\"\"\"\n",
    "\n",
    "pycigar_params = {\"exp_tag\": \"cooperative_multiagent_ppo\",\n",
    "                  \"env_name\": \"CentralControlPVInverterEnv\",\n",
    "                  \"sim_params\": sim_params,\n",
    "                  \"simulator\": \"opendss\",\n",
    "                  \"tracking_ids\": ['adversary_inverter_s701a', 'creg1a', 'creg1c']}\n",
    "\"\"\"\n",
    "call function make_create_env() to register the new environment to OpenGymAI.\n",
    "create_env() is a function to create new instance of the environment.\n",
    "env_name: the registered name of the new environment.\n",
    "\"\"\"\n",
    "create_env, env_name, create_test_env, test_env_name = make_create_env(params=pycigar_params, version=0)\n",
    "register_env(env_name, create_env)\n",
    "register_env(test_env_name, create_test_env)\n",
    "\n",
    "test_env = create_test_env()\n",
    "obs_space = test_env.observation_space  # get the observation space, we need this to construct our agent(s) observation input\n",
    "act_space = test_env.action_space  # get the action space, we need this to construct our agent(s) action output\n"
   ]
  },
  {
   "cell_type": "code",
   "execution_count": 2,
   "metadata": {},
   "outputs": [],
   "source": [
    "obs = test_env.reset()\n",
    "reward = 0\n",
    "done = False\n",
    "while not done:\n",
    "    # for each observation, let the policy decides what to do\n",
    "    obs, r, done, _ = test_env.step(2)\n",
    "    reward += r\n",
    "# plot the result. This will be saved in ./results\n",
    "#test_env.plot(pycigar_params['exp_tag'], env_name, 0, reward)"
   ]
  },
  {
   "cell_type": "code",
   "execution_count": 3,
   "metadata": {},
   "outputs": [],
   "source": [
    "test_env.plot_unbalance(pycigar_params['exp_tag'], env_name, 0, reward)"
   ]
  },
  {
   "cell_type": "markdown",
   "metadata": {},
   "source": [
    "obs = test_env.reset()\n",
    "reward = 0\n",
    "done = False\n",
    "while not done:\n",
    "    # for each observation, let the policy decides what to do\n",
    "    obs, r, done, _ = test_env.step(3)\n",
    "    reward += r\n",
    "# plot the result. This will be saved in ./results\n",
    "#test_env.plot(pycigar_params['exp_tag'], env_name, 0, reward)"
   ]
  },
  {
   "cell_type": "markdown",
   "metadata": {},
   "source": [
    "env = create_env()\n",
    "obs_space = env.observation_space  # get the observation space, we need this to construct our agent(s) observation input\n",
    "act_space = env.action_space  # get the action space, we need this to construct our agent(s) action output\n",
    "obs = env.reset()\n",
    "reward = 0\n",
    "done = False\n",
    "while not done:\n",
    "    # for each observation, let the policy decides what to do\n",
    "    obs, r, done, _ = env.step(3)\n",
    "    reward += r\n",
    "# plot the result. This will be saved in ./results\n",
    "#test_env.plot(pycigar_params['exp_tag'], env_name, 0, reward)"
   ]
  },
  {
   "cell_type": "markdown",
   "metadata": {
    "scrolled": true
   },
   "source": [
    "test_env.get_pycigar_output_specs()"
   ]
  },
  {
   "cell_type": "markdown",
   "metadata": {},
   "source": [
    "directory = '/Users/toanngo/Documents/GitHub/ceds-cigar/rl/data/ieee37busdata/ieee37.dss'\n",
    "dss.run_command('Redirect '+ directory)"
   ]
  },
  {
   "cell_type": "code",
   "execution_count": null,
   "metadata": {},
   "outputs": [],
   "source": []
  }
 ],
 "metadata": {
  "kernelspec": {
   "display_name": "Python 3",
   "language": "python",
   "name": "python3"
  },
  "language_info": {
   "codemirror_mode": {
    "name": "ipython",
    "version": 3
   },
   "file_extension": ".py",
   "mimetype": "text/x-python",
   "name": "python",
   "nbconvert_exporter": "python",
   "pygments_lexer": "ipython3",
   "version": "3.6.8"
  }
 },
 "nbformat": 4,
 "nbformat_minor": 2
}
