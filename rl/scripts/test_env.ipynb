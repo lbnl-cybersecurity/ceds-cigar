{
 "cells": [
  {
   "cell_type": "code",
   "execution_count": 1,
   "metadata": {},
   "outputs": [],
   "source": [
    "import ray\n",
    "from ray import tune\n",
    "from ray.rllib.agents.ppo import PPOTrainer\n",
    "from ray.rllib.agents.ppo import APPOTrainer\n",
    "import argparse\n",
    "from ray.tune.registry import register_env\n",
    "from pycigar.utils.registry import make_create_env\n",
    "import yaml\n",
    "import time\n",
    "from pycigar.utils.input_parser import input_parser\n",
    "\n",
    "SAVE_RATE = 2\n",
    "\n",
    "\"\"\"\n",
    "Load the scenarios configuration file. This file contains the scenario information\n",
    "for the experiment.\n",
    "\"\"\"\n",
    "sim_params = input_parser('ieee37busdata')\n",
    "\n",
    "\"\"\"\n",
    "Register the environment to OpenGymAI. This is necessary, RLlib can find the new environment\n",
    "with string name env_name_v:version:, ex. SingleRelativeDiscreteCoopEnv_v0.\n",
    "env_name: name of environment being used.\n",
    "sim_params: simulation params, it is the scenario configuration.\n",
    "simulator: the simulator being used, ex. opendss, gridlabd...\n",
    "tracking_ids: list of ids of devices being tracked during the experiment.\n",
    "\"\"\"\n",
    "\n",
    "pycigar_params = {\"exp_tag\": \"cooperative_multiagent_ppo\",\n",
    "                  \"env_name\": \"CentralControlPVInverterEnv\",\n",
    "                  \"simulator\": \"opendss\",\n",
    "                  \"tracking_ids\": ['adversary_inverter_s701a', 'reg1']}\n",
    "\"\"\"\n",
    "call function make_create_env() to register the new environment to OpenGymAI.\n",
    "create_env() is a function to create new instance of the environment.\n",
    "env_name: the registered name of the new environment.\n",
    "\"\"\"\n",
    "create_env, env_name = make_create_env(pycigar_params, version=0)\n",
    "register_env(env_name, create_env)\n",
    "sim_params['scenario_config']['start_end_time'] = [100, 100+750]\n",
    "del sim_params['attack_randomization']\n",
    "test_env = create_env(sim_params)\n",
    "obs_space = test_env.observation_space  # get the observation space, we need this to construct our agent(s) observation input\n",
    "act_space = test_env.action_space  # get the action space, we need this to construct our agent(s) action output\n"
   ]
  },
  {
   "cell_type": "code",
   "execution_count": 2,
   "metadata": {
    "scrolled": false
   },
   "outputs": [],
   "source": [
    "obs = test_env.reset()\n",
    "reward = 0\n",
    "done = False\n",
    "while not done:\n",
    "    # for each observation, let the policy decides what to do\n",
    "    obs, r, done, _ = test_env.step(2)\n",
    "    reward += r\n",
    "# plot the result. This will be saved in ./results\n",
    "#test_env.plot(pycigar_params['exp_tag'], env_name, 0, reward)"
   ]
  },
  {
   "cell_type": "code",
   "execution_count": 3,
   "metadata": {},
   "outputs": [
    {
     "data": {
      "text/plain": [
       "dict_keys(['inverter_s701a', 'adversary_inverter_s701a', 'inverter_s701b', 'adversary_inverter_s701b', 'inverter_s701c', 'adversary_inverter_s701c', 'inverter_s712c', 'adversary_inverter_s712c', 'inverter_s713c', 'adversary_inverter_s713c', 'inverter_s714a', 'adversary_inverter_s714a', 'inverter_s714b', 'adversary_inverter_s714b', 'inverter_s718a', 'adversary_inverter_s718a', 'inverter_s720c', 'adversary_inverter_s720c', 'inverter_s722b', 'adversary_inverter_s722b', 'inverter_s722c', 'adversary_inverter_s722c', 'inverter_s724b', 'adversary_inverter_s724b', 'inverter_s725b', 'adversary_inverter_s725b', 'inverter_s727c', 'adversary_inverter_s727c', 'inverter_s728', 'adversary_inverter_s728', 'inverter_s729a', 'adversary_inverter_s729a', 'inverter_s730c', 'adversary_inverter_s730c', 'inverter_s731b', 'adversary_inverter_s731b', 'inverter_s732c', 'adversary_inverter_s732c', 'inverter_s733a', 'adversary_inverter_s733a', 'inverter_s734c', 'adversary_inverter_s734c', 'inverter_s735c', 'adversary_inverter_s735c', 'inverter_s736b', 'adversary_inverter_s736b', 'inverter_s737a', 'adversary_inverter_s737a', 'inverter_s738a', 'adversary_inverter_s738a', 'inverter_s740c', 'adversary_inverter_s740c', 'inverter_s741c', 'adversary_inverter_s741c', 'inverter_s742a', 'adversary_inverter_s742a', 'inverter_s742b', 'adversary_inverter_s742b', 'inverter_s744a', 'adversary_inverter_s744a', 'creg1a', 'creg1c', 's701a', 's701b', 's701c', 's712c', 's713c', 's714a', 's714b', 's718a', 's720c', 's722b', 's722c', 's724b', 's725b', 's727c', 's728', 's729a', 's730c', 's731b', 's732c', 's733a', 's734c', 's735c', 's736b', 's737a', 's738a', 's740c', 's741c', 's742a', 's742b', 's744a', 'network'])"
      ]
     },
     "execution_count": 3,
     "metadata": {},
     "output_type": "execute_result"
    }
   ],
   "source": [
    "from pycigar.utils.logging import logger\n",
    "Logger = logger()\n",
    "Logger.log_dict.keys()"
   ]
  },
  {
   "cell_type": "code",
   "execution_count": 4,
   "metadata": {},
   "outputs": [],
   "source": [
    "import numpy as np\n",
    "log_dict = Logger.log_dict "
   ]
  },
  {
   "cell_type": "code",
   "execution_count": 5,
   "metadata": {},
   "outputs": [],
   "source": [
    "from pycigar.utils.output import pycigar_output_specs\n",
    "v = pycigar_output_specs(test_env)"
   ]
  },
  {
   "cell_type": "code",
   "execution_count": null,
   "metadata": {},
   "outputs": [],
   "source": [
    "test_env.unwrapped.k.device.get_regulator_device_ids()"
   ]
  },
  {
   "cell_type": "code",
   "execution_count": null,
   "metadata": {},
   "outputs": [],
   "source": [
    "import opendssdirect as dss\n",
    "directory = '/home/toanngo/Documents/GitHub/ceds-cigar/rl/data/ieee37busdata/ieee37.dss'\n",
    "dss.run_command('Redirect '+ directory)"
   ]
  },
  {
   "cell_type": "code",
   "execution_count": null,
   "metadata": {},
   "outputs": [],
   "source": [
    "dss.RegControls.AllNames()"
   ]
  },
  {
   "cell_type": "code",
   "execution_count": 6,
   "metadata": {
    "scrolled": true
   },
   "outputs": [
    {
     "data": {
      "text/plain": [
       "700"
      ]
     },
     "execution_count": 6,
     "metadata": {},
     "output_type": "execute_result"
    }
   ],
   "source": [
    "len(v['allMeterVoltages']['Min'])\n",
    "len(log_dict['network']['loss'])"
   ]
  },
  {
   "cell_type": "code",
   "execution_count": 7,
   "metadata": {},
   "outputs": [
    {
     "data": {
      "text/plain": [
       "700"
      ]
     },
     "execution_count": 7,
     "metadata": {},
     "output_type": "execute_result"
    }
   ],
   "source": [
    "len(log_dict['network']['loss'])"
   ]
  },
  {
   "cell_type": "code",
   "execution_count": null,
   "metadata": {},
   "outputs": [],
   "source": []
  }
 ],
 "metadata": {
  "kernelspec": {
   "display_name": "Python 3",
   "language": "python",
   "name": "python3"
  },
  "language_info": {
   "codemirror_mode": {
    "name": "ipython",
    "version": 3
   },
   "file_extension": ".py",
   "mimetype": "text/x-python",
   "name": "python",
   "nbconvert_exporter": "python",
   "pygments_lexer": "ipython3",
   "version": "3.6.8"
  }
 },
 "nbformat": 4,
 "nbformat_minor": 4
}
