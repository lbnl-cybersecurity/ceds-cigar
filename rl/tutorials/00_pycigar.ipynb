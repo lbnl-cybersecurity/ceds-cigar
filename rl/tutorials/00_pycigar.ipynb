{
 "cells": [
  {
   "cell_type": "markdown",
   "metadata": {},
   "source": [
    "# Tutorial 00: PyCIGAR\n",
    "\n",
    "This tutorial shows you the high-level overview of PyCIGAR and how it works. This tutorial is highly recommended before you dive into the next tutorial.\n",
    "\n",
    "RL: reinforcement learning. \n",
    "\n",
    "## High-level of PyCIGAR\n",
    "\n",
    "PyCIGAR is a connection between grid simulators (OpenDSS, GridLab-D,...) and the scalable RL library RLlib. PyCIGAR formalises grid control problem as a RL problem and provides formalised environments to conduct a variety of RL experiments without concern about the difference between grid simulators and scaling up RL experiments.    \n",
    "\n",
    "## Running PyCIGAR\n",
    "\n",
    "In order to get started and train agent(s) to control devices in the electrical grid, you will need:\n",
    "\n",
    "- Distribution feeder: a distribution feeder definition to feed to grid simulator. For example, `./data/feeder34_test.dss` contains all configuration of the 34-Bus distribution feeder (source bus, loads, capacitors,...). \n",
    "- Load/solar generation profiles: `.csv` files of load and solar generation profiles through time. This shows how the \n",
    "- The RL environment:\n",
    "  - A **state space**\n",
    "  - An **action space**\n",
    "  - A **reward function**"
   ]
  },
  {
   "cell_type": "code",
   "execution_count": null,
   "metadata": {},
   "outputs": [],
   "source": []
  }
 ],
 "metadata": {
  "kernelspec": {
   "display_name": "Python 3",
   "language": "python",
   "name": "python3"
  },
  "language_info": {
   "codemirror_mode": {
    "name": "ipython",
    "version": 3
   },
   "file_extension": ".py",
   "mimetype": "text/x-python",
   "name": "python",
   "nbconvert_exporter": "python",
   "pygments_lexer": "ipython3",
   "version": "3.6.8"
  }
 },
 "nbformat": 4,
 "nbformat_minor": 2
}
