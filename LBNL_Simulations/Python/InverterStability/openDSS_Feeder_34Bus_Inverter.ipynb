{
 "cells": [
  {
   "cell_type": "code",
   "execution_count": 1,
   "metadata": {},
   "outputs": [],
   "source": [
    "import numpy as np\n",
    "from DSSStartup import DSSStartup\n",
    "from setInfo import *\n",
    "from getInfo import *\n",
    "import matplotlib.pyplot as plt\n",
    "from math import tan,acos"
   ]
  },
  {
   "cell_type": "markdown",
   "metadata": {},
   "source": [
    "# Global variable initialization and error checking - ok"
   ]
  },
  {
   "cell_type": "code",
   "execution_count": 2,
   "metadata": {},
   "outputs": [],
   "source": [
    "Sbase=1\n",
    "LoadScalingFactor = 7\n",
    "GenerationScalingFactor = 5 \n",
    "SlackBusVoltage = 1.05 \n",
    "NoiseMultiplyer= 0\n",
    "\n",
    "#Set simulation analysis period - the simulation is from StartTime to EndTime\n",
    "StartTime = 40000 \n",
    "EndTime = 40500\n",
    "EndTime += 1 # creating a list, last element does not count, so we increase EndTime by 1\n",
    "#Set hack parameters\n",
    "TimeStepOfHack = 50\n",
    "PercentHacked = np.array([0.5, 0, 1.0, 0, 0, 0.5, 0, 0.5, 0, 0, 0.5, 0.5, 0.5, 0,\n",
    "                        0, 0, 1.0, 0, 0, 0.5, 0, 0.5, 0, 0.5, 0.5, 0, 0.5, 0, 0.5, 1, 0])\n",
    "\n",
    "#Set initial VBP parameters for uncompromised inverters\n",
    "VQ_start = 1.01\n",
    "VQ_end = 1.03\n",
    "VP_start = 1.03\n",
    "VP_end = 1.05\n",
    "\n",
    "#Set adaptive controller gain values (the higher the gain, the faster the response time)\n",
    "kq = 1\n",
    "kp = 1\n",
    "\n",
    "#Set delays for each node\n",
    "                        #1  2  3   4   5  6   7   8      9    10   11   12   13\n",
    "Delay_VoltageSampling = np.array([0, 0, 10, 0, 0,  10,  10,  50,  10,  10,  10,  10,  10]) \n",
    "Delay_VBPCurveShift =   np.array([0, 0, 120, 0, 0, 120, 120, 120, 120, 120, 120, 120, 120])\n",
    "\n",
    "#Set observer voltage threshold\n",
    "ThreshHold_vqvp = 0.25\n",
    "power_factor=0.9\n",
    "pf_converted=tan(acos(power_factor))\n",
    "Number_of_Inverters = 13 #even feeder is 34Bus, we only have 13 inverters\n",
    "\n",
    "#The following variable allows to run the simulation without any inverter\n",
    "SimulateInverterHack=1\n",
    "\n",
    "#Error checking of the global variable -- TODO: add error handling here!\n",
    "if EndTime < StartTime or EndTime < 0 or StartTime < 0:\n",
    "    print('Setup Simulation Times Appropriately.')\n",
    "if NoiseMultiplyer < 0:\n",
    "    print('Setup Noise Multiplyer Correctly.')"
   ]
  },
  {
   "cell_type": "markdown",
   "metadata": {},
   "source": [
    "# Initialization of OpenDSS - ok"
   ]
  },
  {
   "cell_type": "code",
   "execution_count": 3,
   "metadata": {},
   "outputs": [
    {
     "name": "stdout",
     "output_type": "stream",
     "text": [
      "Initial Model Converged. Proceeding to Next Step.\n",
      "OpenDSS Model Compliation Done.\n"
     ]
    }
   ],
   "source": [
    "DSSStart = DSSStartup()\n",
    "DSSText =DSSStart['dsstext']\n",
    "DSSSolution = DSSStart['dsssolution']\n",
    "DSSCircuit = DSSStart['dsscircuit']\n",
    "DSSObj = DSSStart['dssobj']\n",
    "DSSMon = DSSCircuit.Monitors\n",
    "DSSText.command = 'Compile C:\\\\feeders\\\\feeder34_B_NR\\\\feeder34_B_NR.dss'\n",
    "    \n",
    "DSSSolution.Solve();\n",
    "if not DSSSolution.Converged:\n",
    "    print('Initial Solution Not Converged. Check Model for Convergence')\n",
    "else:\n",
    "    print('Initial Model Converged. Proceeding to Next Step.')\n",
    "    #Doing this solve command is required for GridPV, that is why the monitors\n",
    "    #go under a reset process\n",
    "    DSSMon.ResetAll\n",
    "    setSolutionParams(DSSObj,'daily',1,1,'off',1000000,30000)\n",
    "    #Easy process to get all names and count of loads, a trick to avoid\n",
    "    #some more lines of code\n",
    "    TotalLoads=DSSCircuit.Loads.Count\n",
    "    AllLoadNames=DSSCircuit.Loads.AllNames\n",
    "    print('OpenDSS Model Compliation Done.')"
   ]
  },
  {
   "cell_type": "markdown",
   "metadata": {},
   "source": [
    "# Load data from file"
   ]
  },
  {
   "cell_type": "code",
   "execution_count": 4,
   "metadata": {},
   "outputs": [
    {
     "name": "stdout",
     "output_type": "stream",
     "text": [
      "Reading Data for Pecan Street is done.\n"
     ]
    }
   ],
   "source": [
    "#Retrieving the data from the load profile\n",
    "TimeResolutionOfData=10 #resolution in minute\n",
    "#Get the data from the Testpvnum folder\n",
    "#Provide Your Directory - move testpvnum10 from github to drive C: \n",
    "FileDirectoryBase ='C:\\\\feeders\\\\testpvnum10\\\\';\n",
    "QSTS_Time = list(range(1441)) #This can be changed based on the available data - for example, 1440 timesteps\n",
    "QSTS_Data = np.zeros((len(QSTS_Time) ,4,TotalLoads)) #4 columns as there are four columns of data available in the .mat file\n",
    "\n",
    "for node in range(TotalLoads):\n",
    "    #This is created manually according to the naming of the folder\n",
    "    FileDirectoryExtension = 'node_' + str(node+1) + '_pv_' +str(TimeResolutionOfData) + '_minute.csv'\n",
    "    #The total file directory\n",
    "    FileName = FileDirectoryBase + FileDirectoryExtension\n",
    "    #Load the file\n",
    "    MatFile = np.genfromtxt(FileName, delimiter=',')    \n",
    "    QSTS_Data[:,:,node] = MatFile #Putting the loads to appropriate nodes according to the loadlist\n",
    "    \n",
    "Generation = QSTS_Data[:,1,:]*GenerationScalingFactor #solar generation\n",
    "Load = QSTS_Data[:,3,:]*LoadScalingFactor #load demand\n",
    "Generation = np.squeeze(Generation)/Sbase  #To convert to per unit, it should not be multiplied by 100\n",
    "Load = np.squeeze(Load)/Sbase\n",
    "print('Reading Data for Pecan Street is done.')"
   ]
  },
  {
   "cell_type": "markdown",
   "metadata": {},
   "source": [
    "# Interpolate to change data from minutes to seconds - ok"
   ]
  },
  {
   "cell_type": "code",
   "execution_count": 26,
   "metadata": {},
   "outputs": [
    {
     "name": "stdout",
     "output_type": "stream",
     "text": [
      "Starting Interpolation...\n",
      "Load Interpolation has been done. No Noise was added to the load profile.\n"
     ]
    }
   ],
   "source": [
    "from scipy.interpolate import interp1d\n",
    "\n",
    "print('Starting Interpolation...')\n",
    "\n",
    "#interpolation for the whole period...\n",
    "Time = list(range(StartTime,EndTime))\n",
    "TotalTimeSteps = len(Time)\n",
    "LoadSeconds = GenerationSeconds = np.empty([3600*24, TotalLoads])\n",
    "# Interpolate to get minutes to seconds\n",
    "for node in range(TotalLoads): # i is node\n",
    "    t_seconds = np.linspace(1,len(Load[:,node]), int(3600*24/1))\n",
    "    f = interp1d(range(len(Load[:,node])), Load[:,node], kind='cubic', fill_value=\"extrapolate\")\n",
    "    LoadSeconds[:,node] = f(t_seconds) #spline method in matlab equal to Cubic Spline -> cubic\n",
    "    \n",
    "    f = interp1d(range(len(Generation[:,node])), Generation[:,node], kind='cubic', fill_value=\"extrapolate\")\n",
    "    GenerationSeconds[:,node]= f(t_seconds)\n",
    "\n",
    "# Initialization\n",
    "# then we take out only the window we want...\n",
    "LoadSeconds = LoadSeconds[StartTime:EndTime,:]\n",
    "GenerationSeconds = GenerationSeconds[StartTime:EndTime,:]\n",
    "Load = LoadSeconds\n",
    "Generation = GenerationSeconds\n",
    "\n",
    "#Create noise vector\n",
    "Noise = np.empty([TotalTimeSteps, TotalLoads])\n",
    "for node in range(TotalLoads):\n",
    "    Noise[:,node] = np.random.randn(TotalTimeSteps) \n",
    "\n",
    "#Add noise to loads\n",
    "for node in range(TotalLoads):\n",
    "    Load[:,node] = Load[:,node] + NoiseMultiplyer*Noise[:,node]\n",
    "\n",
    "if NoiseMultiplyer > 0:\n",
    "    print('Load Interpolation has been done. Noise was added to the load profile.') \n",
    "else:\n",
    "    print('Load Interpolation has been done. No Noise was added to the load profile.') \n",
    "    \n",
    "MaxGenerationPossible = np.max(Generation, axis = 0)"
   ]
  },
  {
   "cell_type": "markdown",
   "metadata": {},
   "source": [
    "# Inverter Object"
   ]
  },
  {
   "cell_type": "code",
   "execution_count": null,
   "metadata": {},
   "outputs": [],
   "source": [
    "class inverter(object):\n",
    "    __init__(self, name, Delay_VoltageSampling=10, Delay_VBPCurveShift=120, InverterLPF=1, LowPassFilterFrequency=0.1,\n",
    "            HighPassFilterFrequency=1, Gain_Energy=1e5,ThreshHold_vqvp=0.25, PercentHacked=0, InverterRateOfChangeActivate=0,\n",
    "            InverterRateOfChangeLimit = 100):\n",
    "        \n",
    "        #value inside\n",
    "        self.TimeStep = 1\n",
    "        \n",
    "        #unchange value\n",
    "        self.name = name\n",
    "        self.Delay_VoltageSampling = Delay_VoltageSampling\n",
    "        self.Delay_VBPCurveShift = Delay_VBPCurveShift\n",
    "        self.InverterLPF = InverterLPF\n",
    "        self.LowPassFilterFrequency = LowPassFilterFrequency\n",
    "        self.HighPassFilterFrequency = HighPassFilterFrequency\n",
    "        self.Gain_Energy = Gain_Energy\n",
    "        self.ThreshHold_vqvp = ThreshHold_vqvp\n",
    "        self.PercentHacked = PercentHacked\n",
    "        self.InverterRateOfChangeActivate = InverterRateOfChangeActivate\n",
    "        self.InverterRateOfChangeLimit = InverterRateOfChangeLimit\n",
    "\n",
    "        #stored variables\n",
    "        self.V_m1 = 0\n",
    "        \n",
    "        self.FilterVoltage_m1 = 0\n",
    "        self.FilterVoltageCalc_m1 = 0\n",
    "        self.InvReal_m1 = 0\n",
    "        self.InvReact_m1 = 0\n",
    "        self.VBP = np.array([0., 0., 0., 0.])\n",
    "        self.FilteredOutput_vqvp_m1 = 0\n",
    "        self.IntermediateOutput_vqvp_m1 = 0\n",
    "        self.Epsilon_vqvp_m1 = 0\n",
    "        \n",
    "    def inverter_VVVW_model(self, currentVoltage, SolarGeneration_vqvp, ksim):\n",
    "        # we return new value of InvReact and Real, but we made it as our observation in the past also for the next iter\n",
    "        self.InvReact_m1, self.InvReal_m1, self.FilterVoltage_m1, self.FilterVoltageCalc_m1, _, _ = inverter_VoltVarVoltWatt_model(\n",
    "                     self.FilterVoltage_m1, SolarGeneration_vqvp, \n",
    "                     abs(currentVoltage), abs(self.V_m1), \n",
    "                     self.VBP, self.TimeStep, self.InverterLPF, \n",
    "                     self.Sbar, self.InvReal_m1, \n",
    "                     self.InvReact_m1, self.InverterRateOfChangeLimit, \n",
    "                     self.InverterRateOfChangeActivate, ksim, self.Delay_VoltageSampling)\n",
    "        \n",
    "        #we still need V_m1 for observer so we dont update V_m1 here...\n",
    "        \n",
    "        \n",
    "        return self.InvReal_m1, self.InvReact_m1, self.FilterVoltage_m1, self.FilterVoltageCalc_m1\n",
    "    \n",
    "    \n",
    "    def inverter_observer(self, currentVoltage, ksim):\n",
    "        voltage_observer(InverterArray(knode),V_vqvp(knode,ksim), ...\n",
    "                V_vqvp(knode,ksim-1), IntermediateOutput_vqvp(ksim-1,knode), ...\n",
    "                Epsilon_vqvp(ksim-1,knode), FilteredOutput_vqvp(ksim-1,knode))\n",
    "        "
   ]
  },
  {
   "cell_type": "markdown",
   "metadata": {},
   "source": [
    "# Environment Object -\n",
    "this is actually a big simulation object manage and running the simulation, calling and using OpenDSS"
   ]
  },
  {
   "cell_type": "code",
   "execution_count": null,
   "metadata": {},
   "outputs": [],
   "source": []
  }
 ],
 "metadata": {
  "kernelspec": {
   "display_name": "Python 3",
   "language": "python",
   "name": "python3"
  },
  "language_info": {
   "codemirror_mode": {
    "name": "ipython",
    "version": 3
   },
   "file_extension": ".py",
   "mimetype": "text/x-python",
   "name": "python",
   "nbconvert_exporter": "python",
   "pygments_lexer": "ipython3",
   "version": "3.6.4"
  }
 },
 "nbformat": 4,
 "nbformat_minor": 2
}
