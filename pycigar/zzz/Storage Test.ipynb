{
 "cells": [
  {
   "cell_type": "code",
   "execution_count": 1,
   "metadata": {},
   "outputs": [],
   "source": [
    "import numpy as np\n",
    "from collections import deque\n",
    "\n",
    "import matplotlib.pyplot as plt\n",
    "\n",
    "import opendssdirect as dss\n",
    "# load the pre-defined grid to opendss, we use the grid sample in /pycigar/tutorials/data/ieee3.dss\n",
    "# this grid is really simple and only contains 3 loads for the purpose of demonstration\n",
    "dss.run_command(\"Redirect ./data/ieee3.dss\")\n",
    "\n",
    "from pycigar.core.kernel.kernel import Kernel"
   ]
  },
  {
   "cell_type": "code",
   "execution_count": 2,
   "metadata": {},
   "outputs": [
    {
     "name": "stdout",
     "output_type": "stream",
     "text": [
      "['s701a', 's702a', 's703a']\n"
     ]
    }
   ],
   "source": [
    "\n",
    "\n",
    "# get the list of load names to see if the grid is loaded sucessfully\n",
    "print(dss.Loads.AllNames())\n",
    "\n",
    "#\n",
    "k = Kernel(simulator=\"opendss\", sim_params=None)\n",
    "\n",
    "# get the 4 sub-kernels\n",
    "k_simulation = k.simulation\n",
    "k_scenario = k.scenario\n",
    "k_node = k.node\n",
    "k_device = k.device\n",
    "#####################################\n",
    "# get the kernel from the sub-kernels\n",
    "#these functions below should return the same kernel object\n",
    "k1 = k_simulation.master_kernel\n",
    "k2 = k_scenario.master_kernel\n",
    "k3 = k_node.master_kernel\n",
    "k4 = k_device.master_kernel\n",
    "\n",
    "# assert that we get the same kernel object\n",
    "assert(k1 == k2 == k3 == k4)\n",
    "\n",
    "kernel_api = k.simulation.start_simulation()\n",
    "\n",
    "k_simulation.pass_api(kernel_api)\n",
    "k_scenario.pass_api(kernel_api)\n",
    "k_node.pass_api(kernel_api)\n",
    "k_device.pass_api(kernel_api)\n",
    "\n",
    "# or just simply call \n",
    "k.pass_api(kernel_api)\n"
   ]
  },
  {
   "cell_type": "code",
   "execution_count": 3,
   "metadata": {},
   "outputs": [
    {
     "name": "stdout",
     "output_type": "stream",
     "text": [
      "List of nodes in the grid: ['s701a', 's702a', 's703a']\n"
     ]
    },
    {
     "ename": "ImportError",
     "evalue": "cannot import name 'StorageDevice' from 'pycigar.devices' (/home/michael/Desktop/git/ceds-cigar/pycigar/devices/__init__.py)",
     "output_type": "error",
     "traceback": [
      "\u001b[0;31m---------------------------------------------------------------------------\u001b[0m",
      "\u001b[0;31mImportError\u001b[0m                               Traceback (most recent call last)",
      "\u001b[0;32m<ipython-input-3-c4f7d6f9f852>\u001b[0m in \u001b[0;36m<module>\u001b[0;34m\u001b[0m\n\u001b[1;32m     25\u001b[0m \u001b[0;31m# no hack\u001b[0m\u001b[0;34m\u001b[0m\u001b[0;34m\u001b[0m\u001b[0;34m\u001b[0m\u001b[0m\n\u001b[1;32m     26\u001b[0m \u001b[0;32mfrom\u001b[0m \u001b[0mpycigar\u001b[0m\u001b[0;34m.\u001b[0m\u001b[0mdevices\u001b[0m \u001b[0;32mimport\u001b[0m \u001b[0mPVDevice\u001b[0m\u001b[0;34m\u001b[0m\u001b[0;34m\u001b[0m\u001b[0m\n\u001b[0;32m---> 27\u001b[0;31m \u001b[0;32mfrom\u001b[0m \u001b[0mpycigar\u001b[0m\u001b[0;34m.\u001b[0m\u001b[0mdevices\u001b[0m \u001b[0;32mimport\u001b[0m \u001b[0mStorageDevice\u001b[0m\u001b[0;34m\u001b[0m\u001b[0;34m\u001b[0m\u001b[0m\n\u001b[0m\u001b[1;32m     28\u001b[0m \u001b[0;32mfrom\u001b[0m \u001b[0mpycigar\u001b[0m\u001b[0;34m.\u001b[0m\u001b[0mcontrollers\u001b[0m \u001b[0;32mimport\u001b[0m \u001b[0mFixedController\u001b[0m\u001b[0;34m\u001b[0m\u001b[0;34m\u001b[0m\u001b[0m\n\u001b[1;32m     29\u001b[0m \u001b[0;34m\u001b[0m\u001b[0m\n",
      "\u001b[0;31mImportError\u001b[0m: cannot import name 'StorageDevice' from 'pycigar.devices' (/home/michael/Desktop/git/ceds-cigar/pycigar/devices/__init__.py)"
     ]
    }
   ],
   "source": [
    "# load pre-defined grid .dss to OpenDSS\n",
    "dir_opendss = \"./data/ieee3.dss\"\n",
    "kernel_api.simulation_command(\"Redirect \" + dir_opendss)\n",
    "\n",
    "\n",
    "##############################\n",
    "## add nodes to Node kernel ##\n",
    "##############################\n",
    "# Node kernel uses kernel_api to get a list of node names from OpenDSS\n",
    "# then create a dictionary of node_ids to track info on these nodes.\n",
    "# https://github.com/lbnl-cybersecurity/ceds-cigar/blob/toan_dev/pycigar/core/kernel/node/opendss.py#L19\n",
    "k_node.start_nodes()    \n",
    "# check if we start the Node kernel successfully\n",
    "print(\"List of nodes in the grid: {}\".format(list(k_node.nodes.keys())))\n",
    "\n",
    "\n",
    "#############################\n",
    "## start the Device kernel ##\n",
    "#############################\n",
    "k_device.start_device()\n",
    "# add a device to a node #\n",
    "# Let's add a new device with device_id is pv_1, connect to the node s701a\n",
    "# the type of device is PVDevice\n",
    "# the controller of this device is AdaptiveInverterController\n",
    "# no hack\n",
    "from pycigar.devices import PVDevice\n",
    "from pycigar.devices import StorageDevice\n",
    "from pycigar.controllers import FixedController\n",
    "\n",
    "adv_id = k_device.add(name='pv_1', connect_to='s701a', device=(PVDevice, {}), controller=(FixedController, {'default_control_setting':[1.00, 1.01, 1.01, 1.02, 1.04]}), adversary_controller=None, hack=None)\n",
    "# the k_device.add() always return an adversarial id because of code convention\n",
    "# this adv_id will be used later to keep track the dictionary of hack time \n",
    "# PyCIGAR always add a adversarial device beside the device you add, if there is no hack, the percentage is 0\n",
    "\n",
    "# adv_id = k_device.add(name='bsd_1', connect_to='s701a', device=(StorageDevice, {}), controller=(FixedController, {'default_control_setting':[1.00, 1.01, 1.01, 1.02, 1.04]}), adversary_controller=None, hack=None)\n",
    "\n",
    "# check if we add a device successfully\n",
    "print(\"List of devices in the grid: {}\".format(list(k_device.devices.keys())))\n",
    "\n",
    "\n",
    "###########################################################\n",
    "## add load-solar profiles to nodes with Scenario kernel ##\n",
    "###########################################################\n",
    "# k_scenario.change_load_profile() will add the load profiles to nodes\n",
    "# k_scenario.change_load_profile() will distribute solar profiles to devices according to it percentage control\n",
    "# https://github.com/lbnl-cybersecurity/ceds-cigar/blob/toan_dev/pycigar/core/kernel/scenario/opendss.py#L210\n",
    "dir_load_solar = \"./data/load_solar_data.csv\"\n",
    "k_scenario.change_load_profile(start_time=100, end_time=500, network_data_directory_path=dir_load_solar)\n",
    "\n",
    "# check if load profiles are loaded to nodes\n",
    "sample_node = k_node.get_node_ids()[0] # get a sample node\n",
    "print(\"Load profile at node {}: {}\".format(sample_node, k_node.nodes[sample_node][\"load\"][:3]))\n",
    "\n",
    "# check if solar profiles are loaded to devices\n",
    "sample_device = k_device.get_pv_device_ids()[0]\n",
    "print(\"Solar profile at device {}: {}\".format(sample_device, k_device.devices[sample_device][\"device\"].solar_generation[:3]))\n",
    "\n",
    "print('Complete')"
   ]
  },
  {
   "cell_type": "code",
   "execution_count": null,
   "metadata": {},
   "outputs": [],
   "source": []
  },
  {
   "cell_type": "code",
   "execution_count": null,
   "metadata": {},
   "outputs": [],
   "source": [
    "x = deque([0, 1], maxlen=2)\n",
    "x.append(2)\n",
    "x"
   ]
  },
  {
   "cell_type": "code",
   "execution_count": null,
   "metadata": {},
   "outputs": [],
   "source": []
  }
 ],
 "metadata": {
  "kernelspec": {
   "display_name": "Python [conda env:pycigar] *",
   "language": "python",
   "name": "conda-env-pycigar-py"
  },
  "language_info": {
   "codemirror_mode": {
    "name": "ipython",
    "version": 3
   },
   "file_extension": ".py",
   "mimetype": "text/x-python",
   "name": "python",
   "nbconvert_exporter": "python",
   "pygments_lexer": "ipython3",
   "version": "3.7.6"
  }
 },
 "nbformat": 4,
 "nbformat_minor": 4
}
