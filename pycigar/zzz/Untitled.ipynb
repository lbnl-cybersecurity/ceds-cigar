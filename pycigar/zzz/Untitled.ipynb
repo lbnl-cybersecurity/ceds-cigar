{
 "cells": [
  {
   "cell_type": "code",
   "execution_count": 1,
   "metadata": {
    "scrolled": false
   },
   "outputs": [
    {
     "name": "stdout",
     "output_type": "stream",
     "text": [
      "Simulation Complete\n"
     ]
    }
   ],
   "source": [
    "from pycigar.envs import Env\n",
    "import yaml\n",
    "\n",
    "class FooEnv(Env):\n",
    "    @property\n",
    "    def observation_space(self):\n",
    "        return Box(low=-float('inf'), high=float('inf'),\n",
    "                   shape=(5,), dtype=np.float64)\n",
    "\n",
    "    @property\n",
    "    def action_space(self):\n",
    "        return Box(low=0.5, high=1.5, shape=(5,), dtype=np.float64)\n",
    "\n",
    "    def step(self, rl_actions=None, randomize_rl_update=None):\n",
    "        \"\"\"See parent class.\n",
    "        \"\"\"\n",
    "\n",
    "        for _ in range(self.sim_params['env_config'][\"sims_per_step\"]):\n",
    "            self.env_time += 1\n",
    "            \n",
    "            # perform action update for PV inverter device\n",
    "            if len(self.k.device.get_adaptive_device_ids()) > 0:\n",
    "                control_setting = []\n",
    "                for device_id in self.k.device.get_adaptive_device_ids():\n",
    "                    action = self.k.device.get_controller(device_id).get_action(self)\n",
    "                    control_setting.append(action)\n",
    "                self.k.device.apply_control(self.k.device.get_adaptive_device_ids(), control_setting)\n",
    "                \n",
    "            # perform action update for PV inverter device\n",
    "            if len(self.k.device.get_battery_storage_device_ids()) > 0:\n",
    "                control_setting = []\n",
    "                for device_id in self.k.device.get_battery_storage_device_ids():\n",
    "                    action = self.k.device.get_controller(device_id).get_action(self)\n",
    "                    control_setting.append(action)\n",
    "                self.k.device.apply_control(self.k.device.get_battery_storage_device_ids(), control_setting)\n",
    "\n",
    "            # perform action update for PV inverter device\n",
    "            if len(self.k.device.get_fixed_device_ids()) > 0:\n",
    "                control_setting = []\n",
    "                for device_id in self.k.device.get_fixed_device_ids():\n",
    "                    action = self.k.device.get_controller(device_id).get_action(self)\n",
    "                    control_setting.append(action)\n",
    "                self.k.device.apply_control(self.k.device.get_fixed_device_ids(), control_setting)\n",
    "\n",
    "            self.additional_command()\n",
    "\n",
    "            if self.k.time <= self.k.t:\n",
    "                self.k.update(reset=False)\n",
    "\n",
    "                # check whether the simulator sucessfully solved the powerflow\n",
    "                converged = self.k.simulation.check_converged()\n",
    "                if not converged:\n",
    "                    break\n",
    "\n",
    "            if self.k.time >= self.k.t:\n",
    "                break\n",
    "\n",
    "        # the episode will be finished if it is not converged.\n",
    "        done = not converged or (self.k.time == self.k.t)\n",
    "        obs = self.get_state()\n",
    "        infos = {}\n",
    "        reward = self.compute_reward(rl_actions)\n",
    "\n",
    "        return obs, reward, done, infos\n",
    "\n",
    "    def get_state(self):\n",
    "        return [0, 0, 0, 0, 0]\n",
    "\n",
    "    def compute_reward(self, rl_actions, **kwargs):\n",
    "        return 0\n",
    "\n",
    "stream = open(\"./data/pycigar_config.yaml\", \"r\")\n",
    "sim_params = yaml.safe_load(stream)\n",
    "\n",
    "print('Simulation Complete')"
   ]
  },
  {
   "cell_type": "code",
   "execution_count": 2,
   "metadata": {},
   "outputs": [
    {
     "name": "stdout",
     "output_type": "stream",
     "text": [
      "Simulation Complete\n"
     ]
    }
   ],
   "source": [
    "env = FooEnv(sim_params)\n",
    "env.reset()\n",
    "done = False\n",
    "while not done:\n",
    "    _, _, done, _ = env.step()\n",
    "    \n",
    "print('Simulation Complete')"
   ]
  },
  {
   "cell_type": "code",
   "execution_count": 3,
   "metadata": {},
   "outputs": [
    {
     "data": {
      "text/plain": [
       "dict_keys(['pv_1', 'adversary_pv_1', 's701a', 's702a', 's703a', 'network'])"
      ]
     },
     "execution_count": 3,
     "metadata": {},
     "output_type": "execute_result"
    }
   ],
   "source": [
    "from pycigar.utils.logging import logger\n",
    "\n",
    "Logger = logger()\n",
    "\n",
    "Logger.log_dict.keys()"
   ]
  },
  {
   "cell_type": "code",
   "execution_count": 4,
   "metadata": {},
   "outputs": [
    {
     "data": {
      "text/plain": [
       "{'pv_1': {'device': <pycigar.devices.pv_inverter_device.PVDevice at 0x7fd2257b9050>,\n",
       "  'controller': <pycigar.controllers.fixed_controller.FixedController at 0x7fd225fdee50>,\n",
       "  'node_id': 's701a'},\n",
       " 'adversary_pv_1': {'device': <pycigar.devices.pv_inverter_device.PVDevice at 0x7fd225fd9590>,\n",
       "  'controller': <pycigar.controllers.fixed_controller.FixedController at 0x7fd2257b9ad0>,\n",
       "  'node_id': 's701a',\n",
       "  'hack_controller': <pycigar.controllers.fixed_controller.FixedController at 0x7fd225fd9750>},\n",
       " 'bsd_1': {'device': <pycigar.devices.battery_storage_device.BatteryStorageDevice at 0x7fd225fd9550>,\n",
       "  'controller': <pycigar.controllers.battery_storage_controller_01.BatteryStorageController01 at 0x7fd1dc58b790>,\n",
       "  'node_id': 's702a'},\n",
       " 'adversary_bsd_1': {'device': <pycigar.devices.battery_storage_device.BatteryStorageDevice at 0x7fd225ff42d0>,\n",
       "  'controller': <pycigar.controllers.fixed_controller.FixedController at 0x7fd225fd9b50>,\n",
       "  'node_id': 's702a',\n",
       "  'hack_controller': <pycigar.controllers.fixed_controller.FixedController at 0x7fd225ff4290>}}"
      ]
     },
     "execution_count": 4,
     "metadata": {},
     "output_type": "execute_result"
    }
   ],
   "source": [
    "env.k.device.devices"
   ]
  },
  {
   "cell_type": "code",
   "execution_count": null,
   "metadata": {},
   "outputs": [],
   "source": []
  }
 ],
 "metadata": {
  "kernelspec": {
   "display_name": "Python [conda env:pycigar] *",
   "language": "python",
   "name": "conda-env-pycigar-py"
  },
  "language_info": {
   "codemirror_mode": {
    "name": "ipython",
    "version": 3
   },
   "file_extension": ".py",
   "mimetype": "text/x-python",
   "name": "python",
   "nbconvert_exporter": "python",
   "pygments_lexer": "ipython3",
   "version": "3.7.6"
  }
 },
 "nbformat": 4,
 "nbformat_minor": 4
}
