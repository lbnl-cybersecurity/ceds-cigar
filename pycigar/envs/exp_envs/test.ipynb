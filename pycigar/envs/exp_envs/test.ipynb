{
 "metadata": {
  "language_info": {
   "codemirror_mode": {
    "name": "ipython",
    "version": 3
   },
   "file_extension": ".py",
   "mimetype": "text/x-python",
   "name": "python",
   "nbconvert_exporter": "python",
   "pygments_lexer": "ipython3",
   "version": "3.7.6-final"
  },
  "orig_nbformat": 2,
  "kernelspec": {
   "name": "python37664bitpycigartestconda6f494e4b862a4280a0a0055c3626089c",
   "display_name": "Python 3.7.6 64-bit ('pycigar-test': conda)"
  }
 },
 "nbformat": 4,
 "nbformat_minor": 2,
 "cells": [
  {
   "cell_type": "code",
   "execution_count": 1,
   "metadata": {},
   "outputs": [
    {
     "output_type": "error",
     "ename": "SyntaxError",
     "evalue": "'break' outside loop (env.py, line 94)",
     "traceback": [
      "Traceback \u001b[0;36m(most recent call last)\u001b[0m:\n",
      "  File \u001b[1;32m\"/home/toanngo/anaconda3/envs/pycigar-test/lib/python3.7/site-packages/IPython/core/interactiveshell.py\"\u001b[0m, line \u001b[1;32m3331\u001b[0m, in \u001b[1;35mrun_code\u001b[0m\n    exec(code_obj, self.user_global_ns, self.user_ns)\n",
      "  File \u001b[1;32m\"<ipython-input-1-429ddc03b5f3>\"\u001b[0m, line \u001b[1;32m20\u001b[0m, in \u001b[1;35m<module>\u001b[0m\n    from pycigar.envs.exp_envs.envs import CentralControlPhaseSpecificPVInverterEnv\n",
      "\u001b[0;36m  File \u001b[0;32m\"/home/toanngo/Documents/GitHub/cigar-document/ceds-cigar/pycigar/envs/exp_envs/envs.py\"\u001b[0;36m, line \u001b[0;32m1\u001b[0;36m, in \u001b[0;35m<module>\u001b[0;36m\u001b[0m\n\u001b[0;31m    from env import CentralEnv\u001b[0m\n",
      "\u001b[0;36m  File \u001b[0;32m\"/home/toanngo/Documents/GitHub/cigar-document/ceds-cigar/pycigar/envs/exp_envs/env.py\"\u001b[0;36m, line \u001b[0;32m94\u001b[0m\n\u001b[0;31m    break\u001b[0m\n\u001b[0m    ^\u001b[0m\n\u001b[0;31mSyntaxError\u001b[0m\u001b[0;31m:\u001b[0m 'break' outside loop\n"
     ]
    }
   ],
   "source": [
    "from pycigar.utils.input_parser import input_parser\n",
    "import numpy as np\n",
    "from pycigar.utils.registry import register_devcon\n",
    "import tensorflow as tf\n",
    "from ray.rllib.models.catalog import ModelCatalog\n",
    "from gym.spaces import Tuple, Discrete, Box\n",
    "\n",
    "misc_inputs = '/home/toanngo/Documents/GitHub/cigar-document/ceds-cigar/pycigar/data/ieee123busdata/misc_inputs.csv'\n",
    "dss = '/home/toanngo/Documents/GitHub/cigar-document/ceds-cigar/pycigar/data/ieee123busdata/ieee123.dss'\n",
    "load_solar = '/home/toanngo/Documents/GitHub/cigar-document/ceds-cigar/pycigar/data/ieee123busdata/load_solar_data.csv'\n",
    "breakpoints = '/home/toanngo/Documents/GitHub/cigar-document/ceds-cigar/pycigar/data/ieee123busdata/breakpoints.csv'\n",
    "\n",
    "start = 100\n",
    "sim_params = input_parser(misc_inputs, dss, load_solar, breakpoints, benchmark=True, vectorized_mode=True, percentage_hack=0.4)\n",
    "sim_params['scenario_config']['start_end_time'] = [start, start + 750]\n",
    "del sim_params['attack_randomization']\n",
    "for node in sim_params['scenario_config']['nodes']:\n",
    "    node['devices'][0]['adversary_controller'] =  'unbalanced_fixed_controller'\n",
    "\n",
    "from pycigar.envs.exp_envs.envs import ExpCentralControlPhaseSpecificPVInverterEnv\n",
    "policy = \"/home/toanngo/oscillation_ieee123_unbalance/main/run_train/run_train_1_T=150,lr=0.0004_2020-11-20_03-16-262pefpizn/best/policy_600\"\n",
    "env = ExpCentralControlPhaseSpecificPVInverterEnv(sim_params=sim_params)\n",
    "env.reset()\n",
    "done = False\n",
    "while not done:\n",
    "    _, r, done, _ = env.step([np.random.randint(21), np.random.randint(21), np.random.randint(21)])"
   ]
  },
  {
   "cell_type": "code",
   "execution_count": null,
   "metadata": {},
   "outputs": [],
   "source": []
  }
 ]
}