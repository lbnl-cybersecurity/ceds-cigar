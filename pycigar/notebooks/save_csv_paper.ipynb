{
 "cells": [
  {
   "cell_type": "code",
   "execution_count": 1,
   "metadata": {},
   "outputs": [],
   "source": [
    "import multiprocessing\n",
    "import time\n",
    "from ray.tune.registry import register_env\n",
    "from pycigar.utils.registry import make_create_env\n",
    "from pycigar.utils.input_parser import input_parser\n",
    "import numpy as np\n",
    "import tensorflow as tf\n",
    "import pickle\n",
    "import matplotlib.pyplot as plt\n",
    "from pycigar.utils.logging import logger\n",
    "import os\n",
    "import pycigar\n",
    "\n",
    "PATH = os.getcwd()\n",
    "\n",
    "\n",
    "file_name = 'policy'\n",
    "policy = os.path.join(PATH, file_name) #'/home/toanngo/Documents/GitHub/ceds-cigar/pycigar/notebooks/policy_eval_old-obs_P30_pset02_35'\n",
    "start = 100\n",
    "percentage_hack = 0.45\n",
    "\n",
    "\"\"\"\n",
    "Load the scenarios configuration file. This file contains the scenario information\n",
    "for the experiment.\n",
    "\"\"\"\n",
    "misc_inputs_path = pycigar.DATA_DIR + \"/ieee37busdata/misc_inputs.csv\"\n",
    "dss_path = pycigar.DATA_DIR + \"/ieee37busdata/ieee37.dss\"\n",
    "load_solar_path = pycigar.DATA_DIR + \"/ieee37busdata/load_solar_data.csv\"\n",
    "breakpoints_path = pycigar.DATA_DIR + \"/ieee37busdata/breakpoints.csv\"\n",
    "\n",
    "sim_params = input_parser(misc_inputs_path, dss_path, load_solar_path, breakpoints_path, benchmark=True, percentage_hack=percentage_hack)\n",
    "pycigar_params = {\"exp_tag\": \"cooperative_multiagent_ppo\",\n",
    "                    \"env_name\": \"CentralControlPVInverterEnv\",\n",
    "                    \"simulator\": \"opendss\"}\n",
    "\n",
    "create_env, env_name = make_create_env(pycigar_params, version=0)\n",
    "register_env(env_name, create_env)\n",
    "sim_params['scenario_config']['start_end_time'] = [start, start + 750]\n",
    "del sim_params['attack_randomization']\n",
    "test_env = create_env(sim_params)\n",
    "test_env.observation_space  # get the observation space, we need this to construct our agent(s) observation input\n",
    "test_env.action_space  # get the action space, we need this to construct our agent(s) action output\n",
    "tf.compat.v1.enable_eager_execution()\n",
    "policy = tf.saved_model.load(policy)\n",
    "infer = policy.signatures['serving_default']\n",
    "done = False\n",
    "obs = test_env.reset()\n",
    "obs = obs.tolist()\n",
    "while not done:\n",
    "    act_logits = infer(\n",
    "        prev_reward=tf.constant([0.], tf.float32),\n",
    "        observations=tf.constant([obs], tf.float32),\n",
    "        is_training=tf.constant(False),\n",
    "        seq_lens=tf.constant([0], tf.int32),\n",
    "        prev_action=tf.constant([0], tf.int64)\n",
    "    )['behaviour_logits'].numpy()\n",
    "    act = np.argmax(act_logits)\n",
    "    obs, r, done, _ = test_env.step(act)\n",
    "    obs = obs.tolist()\n",
    "log_dict = logger().log_dict\n",
    "custom_metrics = logger().custom_metrics"
   ]
  },
  {
   "cell_type": "code",
   "execution_count": 4,
   "metadata": {},
   "outputs": [
    {
     "output_type": "stream",
     "name": "stdout",
     "text": "dict_keys(['p', 'q', 'kw', 'kvar', 'voltage'])\ndict_keys(['y', 'u', 'p_set', 'q_set', 'p_out', 'q_out', 'control_setting', 'sbar_solarirr', 'sbar_pset', 'solar_irr', 'node', 'reward'])\ndict_keys(['y', 'u', 'p_set', 'q_set', 'p_out', 'q_out', 'control_setting', 'sbar_solarirr', 'sbar_pset', 'solar_irr', 'node'])\n"
    }
   ],
   "source": [
    "print(log_dict['s701a'].keys())\n",
    "print(log_dict['inverter_s701a'].keys())\n",
    "print(log_dict['adversary_inverter_s701a'].keys())"
   ]
  },
  {
   "cell_type": "code",
   "execution_count": 6,
   "metadata": {},
   "outputs": [],
   "source": [
    "result = {}\n",
    "result['v'] = []\n",
    "result['y'] = []\n",
    "result['q_set'] = []\n",
    "result['q_val'] = []\n",
    "result['a1'] = []\n",
    "result['a2'] = []\n",
    "result['a3'] = []\n",
    "result['a4'] = []\n",
    "result['a5'] = []\n",
    "result['a1_adv'] = []\n",
    "result['a2_adv'] = []\n",
    "result['a3_adv'] = []\n",
    "result['a4_adv'] = []\n",
    "result['a5_adv'] = []\n",
    "\n",
    "node = 's701a'\n",
    "for i in range(len(log_dict[node]['voltage'])):\n",
    "    result['v'].append(log_dict[node]['voltage'][i])\n",
    "    result['y'].append(log_dict['inverter_' + node]['y'][i])\n",
    "    result['q_set'].append(log_dict['inverter_' + node]['q_set'][i])\n",
    "    result['q_val'].append(log_dict['inverter_' + node]['q_out'][i])\n",
    "    result['a1'].append(log_dict['inverter_' + node]['control_setting'][i][0])\n",
    "    result['a2'].append(log_dict['inverter_' + node]['control_setting'][i][1])\n",
    "    result['a3'].append(log_dict['inverter_' + node]['control_setting'][i][2])\n",
    "    result['a4'].append(log_dict['inverter_' + node]['control_setting'][i][3])\n",
    "    result['a5'].append(log_dict['inverter_' + node]['control_setting'][i][4])\n",
    "    result['a1_adv'].append(log_dict['adversary_inverter_' + node]['control_setting'][i][0])\n",
    "    result['a2_adv'].append(log_dict['adversary_inverter_' + node]['control_setting'][i][1])\n",
    "    result['a3_adv'].append(log_dict['adversary_inverter_' + node]['control_setting'][i][2])\n",
    "    result['a4_adv'].append(log_dict['adversary_inverter_' + node]['control_setting'][i][3])\n",
    "    result['a5_adv'].append(log_dict['adversary_inverter_' + node]['control_setting'][i][4])"
   ]
  },
  {
   "cell_type": "code",
   "execution_count": null,
   "metadata": {},
   "outputs": [],
   "source": [
    "import pandas as pd\n",
    "\n",
    "df = pd.DataFrame.from_dict(result)\n",
    "df.to_csv(\"eval_150_450.csv\")"
   ]
  }
 ],
 "metadata": {
  "language_info": {
   "codemirror_mode": {
    "name": "ipython",
    "version": 3
   },
   "file_extension": ".py",
   "mimetype": "text/x-python",
   "name": "python",
   "nbconvert_exporter": "python",
   "pygments_lexer": "ipython3",
   "version": "3.7.6-final"
  },
  "orig_nbformat": 2,
  "kernelspec": {
   "name": "python37664bitpycigarcondaa2083d76d007443d8f9fd78ed773e7a0",
   "display_name": "Python 3.7.6 64-bit ('pycigar': conda)"
  }
 },
 "nbformat": 4,
 "nbformat_minor": 2
}