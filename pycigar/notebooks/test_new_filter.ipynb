{
 "cells": [
  {
   "cell_type": "code",
   "execution_count": 1,
   "metadata": {},
   "outputs": [],
   "source": [
    "from pycigar.envs import Env\n",
    "import yaml\n",
    "import time\n",
    "\n",
    "class FooEnv(Env):\n",
    "    @property\n",
    "    def observation_space(self):\n",
    "        return Box(low=-float('inf'), high=float('inf'),\n",
    "                   shape=(5,), dtype=np.float64)\n",
    "\n",
    "    @property\n",
    "    def action_space(self):\n",
    "        return Box(low=0.5, high=1.5, shape=(5,), dtype=np.float64)\n",
    "\n",
    "    def step(self, rl_actions=None, randomize_rl_update=None):\n",
    "        \"\"\"See parent class.\n",
    "        \"\"\"\n",
    "\n",
    "        for _ in range(self.sim_params['env_config'][\"sims_per_step\"]):\n",
    "            self.env_time += 1\n",
    "\n",
    "            # perform action update for PV inverter device\n",
    "            if len(self.k.device.get_adaptive_device_ids()) > 0:\n",
    "                control_setting = []\n",
    "                for device_id in self.k.device.get_adaptive_device_ids():\n",
    "                    action = self.k.device.get_controller(device_id).get_action(self)\n",
    "                    control_setting.append(action)\n",
    "                self.k.device.apply_control(self.k.device.get_adaptive_device_ids(), control_setting)\n",
    "\n",
    "            # perform action update for PV inverter device\n",
    "            if len(self.k.device.get_fixed_device_ids()) > 0:\n",
    "                control_setting = []\n",
    "                for device_id in self.k.device.get_fixed_device_ids():\n",
    "                    action = self.k.device.get_controller(device_id).get_action(self)\n",
    "                    control_setting.append(action)\n",
    "                self.k.device.apply_control(self.k.device.get_fixed_device_ids(), control_setting)\n",
    "\n",
    "            self.additional_command()\n",
    "\n",
    "            if self.k.time <= self.k.t:\n",
    "                self.k.update(reset=False)\n",
    "\n",
    "                # check whether the simulator sucessfully solved the powerflow\n",
    "                converged = self.k.simulation.check_converged()\n",
    "                if not converged:\n",
    "                    break\n",
    "\n",
    "            if self.k.time >= self.k.t:\n",
    "                break\n",
    "\n",
    "        # the episode will be finished if it is not converged.\n",
    "        done = not converged or (self.k.time == self.k.t)\n",
    "        obs = self.get_state()\n",
    "        infos = {}\n",
    "        reward = self.compute_reward(rl_actions)\n",
    "\n",
    "        return obs, reward, done, infos\n",
    "\n",
    "    def get_state(self):\n",
    "        return [0, 0, 0, 0, 0]\n",
    "\n",
    "    def compute_reward(self, rl_actions, **kwargs):\n",
    "        return 0\n",
    "\n",
    "\n",
    "from pycigar.utils.input_parser import input_parser\n",
    "misc_inputs_path = '../data/ieee37busdata/misc_inputs.csv'\n",
    "dss_path = '../data/ieee37busdata/ieee37.dss'\n",
    "load_solar_path = '../data/ieee37busdata/load_solar_data.csv'\n",
    "breakpoints_path = '../data/ieee37busdata/breakpoints.csv'\n",
    "sim_params = input_parser(misc_inputs_path, dss_path, load_solar_path, breakpoints_path, benchmark=False, percentage_hack=0.45, adv=False)\n",
    "\n",
    "env = FooEnv(sim_params)\n",
    "total_start_time = time.time()\n",
    "env.reset()\n",
    "done = False\n",
    "while not done:\n",
    "    start_time = time.time()\n",
    "    _, _, done, _ = env.step()"
   ]
  },
  {
   "cell_type": "code",
   "execution_count": 4,
   "metadata": {},
   "outputs": [
    {
     "output_type": "error",
     "ename": "KeyError",
     "evalue": "'component_observation'",
     "traceback": [
      "\u001b[0;31m---------------------------------------------------------------------------\u001b[0m",
      "\u001b[0;31mKeyError\u001b[0m                                  Traceback (most recent call last)",
      "\u001b[0;32m<ipython-input-4-16e60c8c487a>\u001b[0m in \u001b[0;36m<module>\u001b[0;34m\u001b[0m\n\u001b[1;32m      6\u001b[0m \u001b[0mlog_dict\u001b[0m\u001b[0;34m[\u001b[0m\u001b[0mnext\u001b[0m\u001b[0;34m(\u001b[0m\u001b[0mk\u001b[0m \u001b[0;32mfor\u001b[0m \u001b[0mk\u001b[0m \u001b[0;32min\u001b[0m \u001b[0mlog_dict\u001b[0m \u001b[0;32mif\u001b[0m \u001b[0;34m'inverter'\u001b[0m \u001b[0;32min\u001b[0m \u001b[0mk\u001b[0m\u001b[0;34m)\u001b[0m\u001b[0;34m]\u001b[0m\u001b[0;34m[\u001b[0m\u001b[0;34m'reward'\u001b[0m\u001b[0;34m]\u001b[0m \u001b[0;34m=\u001b[0m \u001b[0;34m[\u001b[0m\u001b[0;36m0\u001b[0m\u001b[0;34m]\u001b[0m\u001b[0;34m\u001b[0m\u001b[0;34m\u001b[0m\u001b[0m\n\u001b[1;32m      7\u001b[0m \u001b[0;32mfrom\u001b[0m \u001b[0mpycigar\u001b[0m\u001b[0;34m.\u001b[0m\u001b[0mutils\u001b[0m\u001b[0;34m.\u001b[0m\u001b[0moutput\u001b[0m \u001b[0;32mimport\u001b[0m \u001b[0mplot_new\u001b[0m\u001b[0;34m\u001b[0m\u001b[0;34m\u001b[0m\u001b[0m\n\u001b[0;32m----> 8\u001b[0;31m \u001b[0mplot_new\u001b[0m\u001b[0;34m(\u001b[0m\u001b[0mlog_dict\u001b[0m\u001b[0;34m,\u001b[0m \u001b[0mcustom_metrics\u001b[0m\u001b[0;34m,\u001b[0m \u001b[0mepoch\u001b[0m\u001b[0;34m=\u001b[0m\u001b[0;34m''\u001b[0m\u001b[0;34m,\u001b[0m \u001b[0munbalance\u001b[0m\u001b[0;34m=\u001b[0m\u001b[0;32mFalse\u001b[0m\u001b[0;34m)\u001b[0m\u001b[0;34m\u001b[0m\u001b[0;34m\u001b[0m\u001b[0m\n\u001b[0m",
      "\u001b[0;32m~/Documents/GitHub/ceds-cigar/pycigar/utils/output.py\u001b[0m in \u001b[0;36mplot_new\u001b[0;34m(log_dict, custom_metrics, epoch, unbalance)\u001b[0m\n\u001b[1;32m    244\u001b[0m                 \u001b[0max\u001b[0m\u001b[0;34m[\u001b[0m\u001b[0;36m1\u001b[0m\u001b[0;34m,\u001b[0m \u001b[0;36m1\u001b[0m\u001b[0;34m]\u001b[0m\u001b[0;34m.\u001b[0m\u001b[0mplot\u001b[0m\u001b[0;34m(\u001b[0m\u001b[0mslope\u001b[0m\u001b[0;34m,\u001b[0m \u001b[0mcolor\u001b[0m\u001b[0;34m=\u001b[0m\u001b[0;34m'tab:red'\u001b[0m\u001b[0;34m)\u001b[0m\u001b[0;34m\u001b[0m\u001b[0;34m\u001b[0m\u001b[0m\n\u001b[1;32m    245\u001b[0m \u001b[0;34m\u001b[0m\u001b[0m\n\u001b[0;32m--> 246\u001b[0;31m         \u001b[0max\u001b[0m\u001b[0;34m[\u001b[0m\u001b[0;36m2\u001b[0m\u001b[0;34m,\u001b[0m \u001b[0;36m1\u001b[0m\u001b[0;34m]\u001b[0m\u001b[0;34m.\u001b[0m\u001b[0mplot\u001b[0m\u001b[0;34m(\u001b[0m\u001b[0mlog_dict\u001b[0m\u001b[0;34m[\u001b[0m\u001b[0;34m'component_observation'\u001b[0m\u001b[0;34m]\u001b[0m\u001b[0;34m[\u001b[0m\u001b[0;34m'component_y'\u001b[0m\u001b[0;34m]\u001b[0m\u001b[0;34m,\u001b[0m \u001b[0mlabel\u001b[0m\u001b[0;34m=\u001b[0m\u001b[0;34m'obs_component_y'\u001b[0m\u001b[0;34m)\u001b[0m\u001b[0;34m\u001b[0m\u001b[0;34m\u001b[0m\u001b[0m\n\u001b[0m\u001b[1;32m    247\u001b[0m         \u001b[0max\u001b[0m\u001b[0;34m[\u001b[0m\u001b[0;36m3\u001b[0m\u001b[0;34m,\u001b[0m \u001b[0;36m1\u001b[0m\u001b[0;34m]\u001b[0m\u001b[0;34m.\u001b[0m\u001b[0mplot\u001b[0m\u001b[0;34m(\u001b[0m\u001b[0mlog_dict\u001b[0m\u001b[0;34m[\u001b[0m\u001b[0;34m'component_observation'\u001b[0m\u001b[0;34m]\u001b[0m\u001b[0;34m[\u001b[0m\u001b[0;34m'component_pset'\u001b[0m\u001b[0;34m]\u001b[0m\u001b[0;34m,\u001b[0m \u001b[0mlabel\u001b[0m\u001b[0;34m=\u001b[0m\u001b[0;34m'obs_component_pset'\u001b[0m\u001b[0;34m)\u001b[0m\u001b[0;34m\u001b[0m\u001b[0;34m\u001b[0m\u001b[0m\n\u001b[1;32m    248\u001b[0m         \u001b[0max\u001b[0m\u001b[0;34m[\u001b[0m\u001b[0;36m4\u001b[0m\u001b[0;34m,\u001b[0m \u001b[0;36m1\u001b[0m\u001b[0;34m]\u001b[0m\u001b[0;34m.\u001b[0m\u001b[0mplot\u001b[0m\u001b[0;34m(\u001b[0m\u001b[0mlog_dict\u001b[0m\u001b[0;34m[\u001b[0m\u001b[0;34m'component_observation'\u001b[0m\u001b[0;34m]\u001b[0m\u001b[0;34m[\u001b[0m\u001b[0;34m'component_ymax'\u001b[0m\u001b[0;34m]\u001b[0m\u001b[0;34m,\u001b[0m \u001b[0mlabel\u001b[0m\u001b[0;34m=\u001b[0m\u001b[0;34m'obs_component_ymax'\u001b[0m\u001b[0;34m)\u001b[0m\u001b[0;34m\u001b[0m\u001b[0;34m\u001b[0m\u001b[0m\n",
      "\u001b[0;31mKeyError\u001b[0m: 'component_observation'"
     ]
    }
   ],
   "source": [
    "from pycigar.utils.logging import logger\n",
    "\n",
    "log_dict = logger().log_dict\n",
    "custom_metrics = logger().custom_metrics\n",
    "\n",
    "#from pycigar.utils.output import plot_new\n",
    "#plot_new(log_dict, custom_metrics, epoch='', unbalance=False)"
   ]
  },
  {
   "cell_type": "code",
   "execution_count": null,
   "metadata": {},
   "outputs": [],
   "source": []
  }
 ],
 "metadata": {
  "language_info": {
   "codemirror_mode": {
    "name": "ipython",
    "version": 3
   },
   "file_extension": ".py",
   "mimetype": "text/x-python",
   "name": "python",
   "nbconvert_exporter": "python",
   "pygments_lexer": "ipython3",
   "version": "3.7.6-final"
  },
  "orig_nbformat": 2,
  "kernelspec": {
   "name": "python37664bitc7e034e5f8d445478cc9bdc8ced1333a",
   "display_name": "Python 3.7.6 64-bit"
  }
 },
 "nbformat": 4,
 "nbformat_minor": 2
}