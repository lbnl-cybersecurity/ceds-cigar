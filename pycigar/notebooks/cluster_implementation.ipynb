{
 "cells": [
  {
   "cell_type": "code",
   "execution_count": 1,
   "metadata": {},
   "outputs": [
    {
     "output_type": "stream",
     "name": "stdout",
     "text": [
      "WARNING:tensorflow:From /home/toanngo/anaconda3/envs/pycigar-3/lib/python3.7/site-packages/tensorflow_core/python/compat/v2_compat.py:65: disable_resource_variables (from tensorflow.python.ops.variable_scope) is deprecated and will be removed in a future version.\n",
      "Instructions for updating:\n",
      "non-resource variables are not supported in the long term\n",
      "/home/toanngo/Documents/GitHub/ceds-cigar/pycigar/devices/vectorized_pv_inverter_device.py:210: RuntimeWarning: invalid value encountered in true_divide\n",
      "  Logger.log(device_id, 'sbar_pset', self.p_set[i] / self.Sbar[i])\n",
      "/home/toanngo/Documents/GitHub/ceds-cigar/pycigar/devices/vectorized_pv_inverter_device.py:210: RuntimeWarning: invalid value encountered in double_scalars\n",
      "  Logger.log(device_id, 'sbar_pset', self.p_set[i] / self.Sbar[i])\n"
     ]
    }
   ],
   "source": [
    "import matplotlib.pyplot as plt\n",
    "plt.switch_backend('tkagg')\n",
    "from pycigar.utils.input_parser import input_parser\n",
    "import numpy as np\n",
    "from pycigar.utils.registry import register_devcon\n",
    "import tensorflow as tf\n",
    "from ray.rllib.models.catalog import ModelCatalog\n",
    "from gym.spaces import Tuple, Discrete, Box\n",
    "import matplotlib\n",
    "%matplotlib inline\n",
    "\n",
    "# misc_inputs = '/home/toanngo/Documents/GitHub/cigar-document/ceds-cigar/pycigar/data/ieee37busdata_regulator_attack/misc_inputs.csv'\n",
    "# dss = '/home/toanngo/Documents/GitHub/ceds-cigar/pycigar/data/ieee37busdata_regulator_attack/ieee37.dss'\n",
    "# load_solar = '/home/toanngo/Documents/GitHub/cigar-document/ceds-cigar/pycigar/data/ieee37busdata_regulator_attack/load_solar_data.csv'\n",
    "# breakpoints = '/home/toanngo/Documents/GitHub/cigar-document/ceds-cigar/pycigar/data/ieee37busdata_regulator_attack/breakpoints.csv'\n",
    "\n",
    "misc_inputs = '/home/toanngo/Documents/GitHub/cigar-document/ceds-cigar/pycigar/data/ieee123busdata/misc_inputs.csv'\n",
    "dss = '/home/toanngo/Documents/GitHub/ceds-cigar/pycigar/data/ieee123busdata/ieee123.dss'\n",
    "load_solar = '/home/toanngo/Documents/GitHub/cigar-document/ceds-cigar/pycigar/data/ieee123busdata/load_solar_data.csv'\n",
    "breakpoints = '/home/toanngo/Documents/GitHub/cigar-document/ceds-cigar/pycigar/data/ieee123busdata/breakpoints.csv'\n",
    "\n",
    "start = 100\n",
    "hack = 0\n",
    "sim_params = input_parser(misc_inputs, dss, load_solar, breakpoints, benchmark=True, vectorized_mode=True, percentage_hack=hack)\n",
    "sim_params['scenario_config']['start_end_time'] = [start, start + 750]\n",
    "sim_params['env_config']['sims_per_step'] = 1\n",
    "sim_params['scenario_config']['custom_configs']['solar_scaling_factor'] = 0\n",
    "del sim_params['attack_randomization']\n",
    "for node in sim_params['scenario_config']['nodes']:\n",
    "    node['devices'][0]['adversary_controller'] =  'adaptive_unbalanced_fixed_controller'\n",
    "\n",
    "from pycigar.envs import CentralControlPhaseSpecificPVInverterEnv\n",
    "env = CentralControlPhaseSpecificPVInverterEnv(sim_params=sim_params)\n",
    "\n",
    "qv_matrix = {}\n",
    "#base voltage \n",
    "env.reset()\n",
    "env.step([10, 10, 10])\n",
    "base_voltage = env.unwrapped.k.kernel_api.puvoltage\n",
    "for device_id in env.unwrapped.k.device.devices.keys():\n",
    "    if 'adversary' not in device_id and 'reg' not in device_id:\n",
    "        env.reset()\n",
    "        node_id = env.unwrapped.k.device.devices[device_id]['node_id']\n",
    "        env.unwrapped.k.node.nodes[node_id]['PQ_injection']['Q'] = 1\n",
    "        env.step([10, 10, 10])\n",
    "        new_voltage = env.unwrapped.k.kernel_api.puvoltage\n",
    "        qv_matrix[device_id] =  np.array(new_voltage) - np.array(base_voltage)"
   ]
  },
  {
   "cell_type": "code",
   "execution_count": 2,
   "metadata": {},
   "outputs": [
    {
     "output_type": "execute_result",
     "data": {
      "text/plain": [
       "['150',\n",
       " '149',\n",
       " '1',\n",
       " '2',\n",
       " '3',\n",
       " '7',\n",
       " '4',\n",
       " '5',\n",
       " '6',\n",
       " '8',\n",
       " '12',\n",
       " '9',\n",
       " '13',\n",
       " '9r',\n",
       " '14',\n",
       " '34',\n",
       " '18',\n",
       " '11',\n",
       " '10',\n",
       " '15',\n",
       " '16',\n",
       " '17',\n",
       " '19',\n",
       " '21',\n",
       " '20',\n",
       " '22',\n",
       " '23',\n",
       " '24',\n",
       " '25',\n",
       " '25r',\n",
       " '26',\n",
       " '28',\n",
       " '27',\n",
       " '31',\n",
       " '33',\n",
       " '29',\n",
       " '30',\n",
       " '250',\n",
       " '32',\n",
       " '35',\n",
       " '36',\n",
       " '40',\n",
       " '37',\n",
       " '38',\n",
       " '39',\n",
       " '41',\n",
       " '42',\n",
       " '43',\n",
       " '44',\n",
       " '45',\n",
       " '47',\n",
       " '46',\n",
       " '48',\n",
       " '49',\n",
       " '50',\n",
       " '51',\n",
       " '151',\n",
       " '52',\n",
       " '53',\n",
       " '54',\n",
       " '55',\n",
       " '57',\n",
       " '56',\n",
       " '58',\n",
       " '60',\n",
       " '59',\n",
       " '61',\n",
       " '62',\n",
       " '63',\n",
       " '64',\n",
       " '65',\n",
       " '66',\n",
       " '67',\n",
       " '68',\n",
       " '72',\n",
       " '97',\n",
       " '69',\n",
       " '70',\n",
       " '71',\n",
       " '73',\n",
       " '76',\n",
       " '74',\n",
       " '75',\n",
       " '77',\n",
       " '86',\n",
       " '78',\n",
       " '79',\n",
       " '80',\n",
       " '81',\n",
       " '82',\n",
       " '84',\n",
       " '83',\n",
       " '85',\n",
       " '87',\n",
       " '88',\n",
       " '89',\n",
       " '90',\n",
       " '91',\n",
       " '92',\n",
       " '93',\n",
       " '94',\n",
       " '95',\n",
       " '96',\n",
       " '98',\n",
       " '99',\n",
       " '100',\n",
       " '450',\n",
       " '197',\n",
       " '101',\n",
       " '102',\n",
       " '105',\n",
       " '103',\n",
       " '104',\n",
       " '106',\n",
       " '108',\n",
       " '107',\n",
       " '109',\n",
       " '300',\n",
       " '110',\n",
       " '111',\n",
       " '112',\n",
       " '113',\n",
       " '114',\n",
       " '135',\n",
       " '152',\n",
       " '160r',\n",
       " '150r',\n",
       " '160',\n",
       " '61s',\n",
       " '300_open',\n",
       " '94_open',\n",
       " '610']"
      ]
     },
     "metadata": {},
     "execution_count": 2
    }
   ],
   "source": [
    "env.unwrapped.k.kernel_api.all_bus_name"
   ]
  },
  {
   "cell_type": "code",
   "execution_count": 3,
   "metadata": {},
   "outputs": [],
   "source": [
    "import pandas as pd\n",
    "\n",
    "df = pd.DataFrame.from_dict(qv_matrix)\n",
    "df = df.set_index([list(env.unwrapped.k.kernel_api.offsets.keys())])"
   ]
  },
  {
   "cell_type": "code",
   "execution_count": 4,
   "metadata": {},
   "outputs": [
    {
     "output_type": "execute_result",
     "data": {
      "text/plain": [
       "            inverter_s1a  inverter_s2b  inverter_s4c  inverter_s5c  \\\n",
       "150.1      -1.729166e-08  2.085203e-10 -1.976790e-10 -1.977385e-10   \n",
       "150.2      -1.741285e-10 -1.687646e-08  6.949774e-11  6.935896e-11   \n",
       "150.3       1.313947e-10 -1.722871e-10 -1.717359e-08 -1.717284e-08   \n",
       "149.1      -2.458279e-08  2.955935e-10 -2.802476e-10 -2.803324e-10   \n",
       "149.2      -2.472522e-10 -2.399123e-08  9.765055e-11  9.745338e-11   \n",
       "...                  ...           ...           ...           ...   \n",
       "300_open.3  4.134306e-06  1.987006e-07 -1.285620e-05 -1.284891e-05   \n",
       "94_open.1  -1.351284e-05  4.972477e-06  4.297918e-07  4.242305e-07   \n",
       "610.1      -5.553214e-06 -1.553117e-06 -8.319717e-07 -8.288052e-07   \n",
       "610.2      -2.707441e-07 -4.567031e-06 -2.080615e-06 -2.082249e-06   \n",
       "610.3      -2.248828e-06 -4.818879e-07 -5.809541e-06 -5.806546e-06   \n",
       "\n",
       "            inverter_s6c  inverter_s7a  inverter_s9a  inverter_s10a  \\\n",
       "150.1      -1.977916e-10 -1.751138e-08 -1.766024e-08  -1.766540e-08   \n",
       "150.2       6.923928e-11 -3.068481e-10 -3.980187e-10  -3.981513e-10   \n",
       "150.3      -1.717227e-08  2.293274e-10  2.953906e-10   2.950939e-10   \n",
       "149.1      -2.804081e-10 -2.489306e-08 -2.510316e-08  -2.511015e-08   \n",
       "149.2       9.728307e-11 -4.356786e-10 -5.651020e-10  -5.652872e-10   \n",
       "...                  ...           ...           ...            ...   \n",
       "300_open.3 -1.284269e-05  7.431606e-06  9.732501e-06   9.744404e-06   \n",
       "94_open.1   4.194927e-07 -2.391851e-05 -3.099298e-05  -3.098098e-05   \n",
       "610.1      -8.261094e-07 -9.810839e-06 -1.269932e-05  -1.269234e-05   \n",
       "610.2      -2.083646e-06 -4.240043e-07 -4.984710e-07  -4.902372e-07   \n",
       "610.3      -5.803991e-06 -4.056127e-06 -5.327919e-06  -5.337365e-06   \n",
       "\n",
       "            inverter_s11a  inverter_s12b  ...  inverter_s102c  inverter_s103c  \\\n",
       "150.1       -1.766056e-08   4.632290e-10  ...   -1.175325e-09   -1.180300e-09   \n",
       "150.2       -3.980134e-10  -1.671734e-08  ...    4.264240e-10    4.282406e-10   \n",
       "150.3        2.948639e-10  -3.686078e-10  ...   -1.787196e-08   -1.790757e-08   \n",
       "149.1       -2.510310e-08   6.568068e-10  ...   -1.667573e-09   -1.674689e-09   \n",
       "149.2       -5.650878e-10  -2.375966e-08  ...    5.977960e-10    6.003598e-10   \n",
       "...                   ...            ...  ...             ...             ...   \n",
       "300_open.3   9.746204e-06   3.026345e-07  ...   -3.873889e-05   -3.883073e-05   \n",
       "94_open.1   -3.096359e-05   1.139917e-05  ...   -7.570321e-07   -7.415623e-07   \n",
       "610.1       -1.268484e-05  -3.549615e-06  ...   -5.006545e-06   -5.057478e-06   \n",
       "610.2       -4.864001e-07  -1.024671e-05  ...   -1.716468e-05   -1.718591e-05   \n",
       "610.3       -5.339665e-06  -9.979828e-07  ...   -4.408662e-05   -4.419569e-05   \n",
       "\n",
       "            inverter_s104c  inverter_s106b  inverter_s107b  inverter_s109a  \\\n",
       "150.1        -1.185306e-09    1.160781e-09    1.158903e-09   -1.858338e-08   \n",
       "150.2         4.300573e-10   -1.622870e-08   -1.622142e-08   -1.083340e-09   \n",
       "150.3        -1.794342e-08   -1.036529e-09   -1.037495e-09    9.009904e-10   \n",
       "149.1        -1.681850e-09    1.648661e-09    1.646000e-09   -2.640383e-08   \n",
       "149.2         6.029230e-10   -2.304117e-08   -2.303036e-08   -1.538370e-09   \n",
       "...                    ...             ...             ...             ...   \n",
       "300_open.3   -3.892297e-05   -2.781922e-06   -2.816501e-06    1.535775e-05   \n",
       "94_open.1    -7.261726e-07    2.762542e-05    2.765887e-05   -6.920522e-05   \n",
       "610.1        -5.108555e-06   -1.510152e-05   -1.512444e-05   -4.516284e-05   \n",
       "610.2        -1.720741e-05   -3.536890e-05   -3.532001e-05   -1.460811e-06   \n",
       "610.3        -4.430541e-05   -9.516946e-07   -9.121728e-07   -1.932875e-05   \n",
       "\n",
       "            inverter_s111a  inverter_s112a  inverter_s113a  inverter_s114a  \n",
       "150.1        -1.861345e-08   -1.859936e-08   -1.860422e-08   -1.861454e-08  \n",
       "150.2        -1.085461e-09   -1.084568e-09   -1.085049e-09   -1.085738e-09  \n",
       "150.3         9.020138e-10    9.010883e-10    9.006254e-10    9.011423e-10  \n",
       "149.1        -2.644651e-08   -2.642629e-08   -2.643289e-08   -2.644761e-08  \n",
       "149.2        -1.541392e-09   -1.540113e-09   -1.540789e-09   -1.541772e-09  \n",
       "...                    ...             ...             ...             ...  \n",
       "300_open.3    1.538374e-05    1.537889e-05    1.539326e-05    1.539935e-05  \n",
       "94_open.1    -6.931616e-05   -6.924370e-05   -6.923310e-05   -6.927899e-05  \n",
       "610.1        -4.523847e-05   -4.519029e-05   -4.518478e-05   -4.521562e-05  \n",
       "610.2        -1.462504e-06   -1.442884e-06   -1.416941e-06   -1.424727e-06  \n",
       "610.3        -1.936506e-05   -1.936539e-05   -1.939543e-05   -1.940126e-05  \n",
       "\n",
       "[278 rows x 91 columns]"
      ],
      "text/html": "<div>\n<style scoped>\n    .dataframe tbody tr th:only-of-type {\n        vertical-align: middle;\n    }\n\n    .dataframe tbody tr th {\n        vertical-align: top;\n    }\n\n    .dataframe thead th {\n        text-align: right;\n    }\n</style>\n<table border=\"1\" class=\"dataframe\">\n  <thead>\n    <tr style=\"text-align: right;\">\n      <th></th>\n      <th>inverter_s1a</th>\n      <th>inverter_s2b</th>\n      <th>inverter_s4c</th>\n      <th>inverter_s5c</th>\n      <th>inverter_s6c</th>\n      <th>inverter_s7a</th>\n      <th>inverter_s9a</th>\n      <th>inverter_s10a</th>\n      <th>inverter_s11a</th>\n      <th>inverter_s12b</th>\n      <th>...</th>\n      <th>inverter_s102c</th>\n      <th>inverter_s103c</th>\n      <th>inverter_s104c</th>\n      <th>inverter_s106b</th>\n      <th>inverter_s107b</th>\n      <th>inverter_s109a</th>\n      <th>inverter_s111a</th>\n      <th>inverter_s112a</th>\n      <th>inverter_s113a</th>\n      <th>inverter_s114a</th>\n    </tr>\n  </thead>\n  <tbody>\n    <tr>\n      <th>150.1</th>\n      <td>-1.729166e-08</td>\n      <td>2.085203e-10</td>\n      <td>-1.976790e-10</td>\n      <td>-1.977385e-10</td>\n      <td>-1.977916e-10</td>\n      <td>-1.751138e-08</td>\n      <td>-1.766024e-08</td>\n      <td>-1.766540e-08</td>\n      <td>-1.766056e-08</td>\n      <td>4.632290e-10</td>\n      <td>...</td>\n      <td>-1.175325e-09</td>\n      <td>-1.180300e-09</td>\n      <td>-1.185306e-09</td>\n      <td>1.160781e-09</td>\n      <td>1.158903e-09</td>\n      <td>-1.858338e-08</td>\n      <td>-1.861345e-08</td>\n      <td>-1.859936e-08</td>\n      <td>-1.860422e-08</td>\n      <td>-1.861454e-08</td>\n    </tr>\n    <tr>\n      <th>150.2</th>\n      <td>-1.741285e-10</td>\n      <td>-1.687646e-08</td>\n      <td>6.949774e-11</td>\n      <td>6.935896e-11</td>\n      <td>6.923928e-11</td>\n      <td>-3.068481e-10</td>\n      <td>-3.980187e-10</td>\n      <td>-3.981513e-10</td>\n      <td>-3.980134e-10</td>\n      <td>-1.671734e-08</td>\n      <td>...</td>\n      <td>4.264240e-10</td>\n      <td>4.282406e-10</td>\n      <td>4.300573e-10</td>\n      <td>-1.622870e-08</td>\n      <td>-1.622142e-08</td>\n      <td>-1.083340e-09</td>\n      <td>-1.085461e-09</td>\n      <td>-1.084568e-09</td>\n      <td>-1.085049e-09</td>\n      <td>-1.085738e-09</td>\n    </tr>\n    <tr>\n      <th>150.3</th>\n      <td>1.313947e-10</td>\n      <td>-1.722871e-10</td>\n      <td>-1.717359e-08</td>\n      <td>-1.717284e-08</td>\n      <td>-1.717227e-08</td>\n      <td>2.293274e-10</td>\n      <td>2.953906e-10</td>\n      <td>2.950939e-10</td>\n      <td>2.948639e-10</td>\n      <td>-3.686078e-10</td>\n      <td>...</td>\n      <td>-1.787196e-08</td>\n      <td>-1.790757e-08</td>\n      <td>-1.794342e-08</td>\n      <td>-1.036529e-09</td>\n      <td>-1.037495e-09</td>\n      <td>9.009904e-10</td>\n      <td>9.020138e-10</td>\n      <td>9.010883e-10</td>\n      <td>9.006254e-10</td>\n      <td>9.011423e-10</td>\n    </tr>\n    <tr>\n      <th>149.1</th>\n      <td>-2.458279e-08</td>\n      <td>2.955935e-10</td>\n      <td>-2.802476e-10</td>\n      <td>-2.803324e-10</td>\n      <td>-2.804081e-10</td>\n      <td>-2.489306e-08</td>\n      <td>-2.510316e-08</td>\n      <td>-2.511015e-08</td>\n      <td>-2.510310e-08</td>\n      <td>6.568068e-10</td>\n      <td>...</td>\n      <td>-1.667573e-09</td>\n      <td>-1.674689e-09</td>\n      <td>-1.681850e-09</td>\n      <td>1.648661e-09</td>\n      <td>1.646000e-09</td>\n      <td>-2.640383e-08</td>\n      <td>-2.644651e-08</td>\n      <td>-2.642629e-08</td>\n      <td>-2.643289e-08</td>\n      <td>-2.644761e-08</td>\n    </tr>\n    <tr>\n      <th>149.2</th>\n      <td>-2.472522e-10</td>\n      <td>-2.399123e-08</td>\n      <td>9.765055e-11</td>\n      <td>9.745338e-11</td>\n      <td>9.728307e-11</td>\n      <td>-4.356786e-10</td>\n      <td>-5.651020e-10</td>\n      <td>-5.652872e-10</td>\n      <td>-5.650878e-10</td>\n      <td>-2.375966e-08</td>\n      <td>...</td>\n      <td>5.977960e-10</td>\n      <td>6.003598e-10</td>\n      <td>6.029230e-10</td>\n      <td>-2.304117e-08</td>\n      <td>-2.303036e-08</td>\n      <td>-1.538370e-09</td>\n      <td>-1.541392e-09</td>\n      <td>-1.540113e-09</td>\n      <td>-1.540789e-09</td>\n      <td>-1.541772e-09</td>\n    </tr>\n    <tr>\n      <th>...</th>\n      <td>...</td>\n      <td>...</td>\n      <td>...</td>\n      <td>...</td>\n      <td>...</td>\n      <td>...</td>\n      <td>...</td>\n      <td>...</td>\n      <td>...</td>\n      <td>...</td>\n      <td>...</td>\n      <td>...</td>\n      <td>...</td>\n      <td>...</td>\n      <td>...</td>\n      <td>...</td>\n      <td>...</td>\n      <td>...</td>\n      <td>...</td>\n      <td>...</td>\n      <td>...</td>\n    </tr>\n    <tr>\n      <th>300_open.3</th>\n      <td>4.134306e-06</td>\n      <td>1.987006e-07</td>\n      <td>-1.285620e-05</td>\n      <td>-1.284891e-05</td>\n      <td>-1.284269e-05</td>\n      <td>7.431606e-06</td>\n      <td>9.732501e-06</td>\n      <td>9.744404e-06</td>\n      <td>9.746204e-06</td>\n      <td>3.026345e-07</td>\n      <td>...</td>\n      <td>-3.873889e-05</td>\n      <td>-3.883073e-05</td>\n      <td>-3.892297e-05</td>\n      <td>-2.781922e-06</td>\n      <td>-2.816501e-06</td>\n      <td>1.535775e-05</td>\n      <td>1.538374e-05</td>\n      <td>1.537889e-05</td>\n      <td>1.539326e-05</td>\n      <td>1.539935e-05</td>\n    </tr>\n    <tr>\n      <th>94_open.1</th>\n      <td>-1.351284e-05</td>\n      <td>4.972477e-06</td>\n      <td>4.297918e-07</td>\n      <td>4.242305e-07</td>\n      <td>4.194927e-07</td>\n      <td>-2.391851e-05</td>\n      <td>-3.099298e-05</td>\n      <td>-3.098098e-05</td>\n      <td>-3.096359e-05</td>\n      <td>1.139917e-05</td>\n      <td>...</td>\n      <td>-7.570321e-07</td>\n      <td>-7.415623e-07</td>\n      <td>-7.261726e-07</td>\n      <td>2.762542e-05</td>\n      <td>2.765887e-05</td>\n      <td>-6.920522e-05</td>\n      <td>-6.931616e-05</td>\n      <td>-6.924370e-05</td>\n      <td>-6.923310e-05</td>\n      <td>-6.927899e-05</td>\n    </tr>\n    <tr>\n      <th>610.1</th>\n      <td>-5.553214e-06</td>\n      <td>-1.553117e-06</td>\n      <td>-8.319717e-07</td>\n      <td>-8.288052e-07</td>\n      <td>-8.261094e-07</td>\n      <td>-9.810839e-06</td>\n      <td>-1.269932e-05</td>\n      <td>-1.269234e-05</td>\n      <td>-1.268484e-05</td>\n      <td>-3.549615e-06</td>\n      <td>...</td>\n      <td>-5.006545e-06</td>\n      <td>-5.057478e-06</td>\n      <td>-5.108555e-06</td>\n      <td>-1.510152e-05</td>\n      <td>-1.512444e-05</td>\n      <td>-4.516284e-05</td>\n      <td>-4.523847e-05</td>\n      <td>-4.519029e-05</td>\n      <td>-4.518478e-05</td>\n      <td>-4.521562e-05</td>\n    </tr>\n    <tr>\n      <th>610.2</th>\n      <td>-2.707441e-07</td>\n      <td>-4.567031e-06</td>\n      <td>-2.080615e-06</td>\n      <td>-2.082249e-06</td>\n      <td>-2.083646e-06</td>\n      <td>-4.240043e-07</td>\n      <td>-4.984710e-07</td>\n      <td>-4.902372e-07</td>\n      <td>-4.864001e-07</td>\n      <td>-1.024671e-05</td>\n      <td>...</td>\n      <td>-1.716468e-05</td>\n      <td>-1.718591e-05</td>\n      <td>-1.720741e-05</td>\n      <td>-3.536890e-05</td>\n      <td>-3.532001e-05</td>\n      <td>-1.460811e-06</td>\n      <td>-1.462504e-06</td>\n      <td>-1.442884e-06</td>\n      <td>-1.416941e-06</td>\n      <td>-1.424727e-06</td>\n    </tr>\n    <tr>\n      <th>610.3</th>\n      <td>-2.248828e-06</td>\n      <td>-4.818879e-07</td>\n      <td>-5.809541e-06</td>\n      <td>-5.806546e-06</td>\n      <td>-5.803991e-06</td>\n      <td>-4.056127e-06</td>\n      <td>-5.327919e-06</td>\n      <td>-5.337365e-06</td>\n      <td>-5.339665e-06</td>\n      <td>-9.979828e-07</td>\n      <td>...</td>\n      <td>-4.408662e-05</td>\n      <td>-4.419569e-05</td>\n      <td>-4.430541e-05</td>\n      <td>-9.516946e-07</td>\n      <td>-9.121728e-07</td>\n      <td>-1.932875e-05</td>\n      <td>-1.936506e-05</td>\n      <td>-1.936539e-05</td>\n      <td>-1.939543e-05</td>\n      <td>-1.940126e-05</td>\n    </tr>\n  </tbody>\n</table>\n<p>278 rows × 91 columns</p>\n</div>"
     },
     "metadata": {},
     "execution_count": 4
    }
   ],
   "source": [
    "df"
   ]
  },
  {
   "cell_type": "code",
   "execution_count": 22,
   "metadata": {},
   "outputs": [],
   "source": [
    "df = df[df.index.isin(full_nodes)]\n",
    "data = df.to_numpy()\n",
    "\n"
   ]
  },
  {
   "cell_type": "code",
   "execution_count": 26,
   "metadata": {},
   "outputs": [],
   "source": [
    "from sklearn.cluster import SpectralClustering\n",
    "clustering = SpectralClustering(n_clusters=2, assign_labels='kmeans', random_state=42, gamma=1).fit(data)"
   ]
  },
  {
   "cell_type": "code",
   "execution_count": 27,
   "metadata": {},
   "outputs": [
    {
     "output_type": "execute_result",
     "data": {
      "text/plain": [
       "(95,)"
      ]
     },
     "metadata": {},
     "execution_count": 27
    }
   ],
   "source": [
    "clustering.labels_.shape"
   ]
  },
  {
   "cell_type": "code",
   "execution_count": 28,
   "metadata": {},
   "outputs": [
    {
     "output_type": "stream",
     "name": "stdout",
     "text": [
      "Index(['1.1', '2.2', '4.3', '5.3', '6.3', '12.2', '34.3', '16.3', '17.3',\n       '22.2', '24.3', '31.3', '30.3', '32.3', '38.2', '39.2', '41.3', '43.2',\n       '47.2', '47.3', '48.2', '48.3', '49.2', '49.3', '50.3', '56.2', '58.2',\n       '59.2', '62.3', '64.2', '65.2', '65.3', '66.3', '73.3', '76.2', '76.3',\n       '74.3', '75.3', '77.2', '86.2', '80.2', '84.3', '83.3', '85.3', '87.2',\n       '90.2', '92.3', '95.2', '96.2', '99.2', '100.3', '102.3', '103.3',\n       '104.3', '106.2', '107.2'],\n      dtype='object')\nIndex(['7.1', '9.1', '11.1', '10.1', '19.1', '20.1', '28.1', '33.1', '29.1',\n       '35.1', '37.1', '42.1', '45.1', '47.1', '46.1', '48.1', '49.1', '51.1',\n       '52.1', '53.1', '55.1', '60.1', '63.1', '65.1', '68.1', '69.1', '70.1',\n       '71.1', '76.1', '79.1', '82.1', '88.1', '94.1', '98.1', '109.1',\n       '111.1', '112.1', '113.1', '114.1'],\n      dtype='object')\nIndex([], dtype='object')\nIndex([], dtype='object')\nIndex([], dtype='object')\n"
     ]
    }
   ],
   "source": [
    "print(df.index[clustering.labels_ == 0])\n",
    "print(df.index[clustering.labels_ == 1])\n",
    "print(df.index[clustering.labels_ == 2])\n",
    "print(df.index[clustering.labels_ == 3])\n",
    "print(df.index[clustering.labels_ == 4])"
   ]
  },
  {
   "cell_type": "code",
   "execution_count": 9,
   "metadata": {},
   "outputs": [
    {
     "output_type": "execute_result",
     "data": {
      "text/plain": [
       "Index(['inverter_s1a', 'inverter_s2b', 'inverter_s4c', 'inverter_s5c',\n",
       "       'inverter_s6c', 'inverter_s7a', 'inverter_s9a', 'inverter_s10a',\n",
       "       'inverter_s11a', 'inverter_s12b', 'inverter_s16c', 'inverter_s17c',\n",
       "       'inverter_s19a', 'inverter_s20a', 'inverter_s22b', 'inverter_s24c',\n",
       "       'inverter_s28a', 'inverter_s29a', 'inverter_s30c', 'inverter_s31c',\n",
       "       'inverter_s32c', 'inverter_s33a', 'inverter_s34c', 'inverter_s35a',\n",
       "       'inverter_s37a', 'inverter_s38b', 'inverter_s39b', 'inverter_s41c',\n",
       "       'inverter_s42a', 'inverter_s43b', 'inverter_s45a', 'inverter_s46a',\n",
       "       'inverter_s47', 'inverter_s48', 'inverter_s49a', 'inverter_s49b',\n",
       "       'inverter_s49c', 'inverter_s50c', 'inverter_s51a', 'inverter_s52a',\n",
       "       'inverter_s53a', 'inverter_s55a', 'inverter_s56b', 'inverter_s58b',\n",
       "       'inverter_s59b', 'inverter_s60a', 'inverter_s62c', 'inverter_s63a',\n",
       "       'inverter_s64b', 'inverter_s65a', 'inverter_s65b', 'inverter_s65c',\n",
       "       'inverter_s66c', 'inverter_s68a', 'inverter_s69a', 'inverter_s70a',\n",
       "       'inverter_s71a', 'inverter_s73c', 'inverter_s74c', 'inverter_s75c',\n",
       "       'inverter_s76a', 'inverter_s76b', 'inverter_s76c', 'inverter_s77b',\n",
       "       'inverter_s79a', 'inverter_s80b', 'inverter_s82a', 'inverter_s83c',\n",
       "       'inverter_s84c', 'inverter_s85c', 'inverter_s86b', 'inverter_s87b',\n",
       "       'inverter_s88a', 'inverter_s90b', 'inverter_s92c', 'inverter_s94a',\n",
       "       'inverter_s95b', 'inverter_s96b', 'inverter_s98a', 'inverter_s99b',\n",
       "       'inverter_s100c', 'inverter_s102c', 'inverter_s103c', 'inverter_s104c',\n",
       "       'inverter_s106b', 'inverter_s107b', 'inverter_s109a', 'inverter_s111a',\n",
       "       'inverter_s112a', 'inverter_s113a', 'inverter_s114a'],\n",
       "      dtype='object')"
      ]
     },
     "metadata": {},
     "execution_count": 9
    }
   ],
   "source": [
    "df.columns"
   ]
  },
  {
   "cell_type": "code",
   "execution_count": 12,
   "metadata": {},
   "outputs": [
    {
     "output_type": "stream",
     "name": "stdout",
     "text": [
      "Index(['7.1', '8.1', '9.1', '13.1', '9r.1', '14.1', '18.1', '11.1', '10.1',\n       '19.1', '21.1', '20.1', '23.1', '25.1', '25r.1', '26.1', '28.1', '27.1',\n       '33.1', '29.1', '30.1', '250.1', '35.1', '36.1', '40.1', '37.1', '42.1',\n       '44.1', '45.1', '47.1', '46.1', '48.1', '49.1', '50.1', '51.1', '151.1',\n       '52.1', '53.1', '54.1', '55.1', '56.1', '135.1', '152.1', '300_open.1',\n       '94_open.1'],\n      dtype='object')\nIndex(['7.2', '8.2', '12.2', '13.2', '18.2', '21.2', '22.2', '23.2', '25.2',\n       '28.2', '29.2', '30.2', '250.2', '35.2', '36.2', '40.2', '38.2', '39.2',\n       '42.2', '43.2', '44.2', '47.2', '48.2', '49.2', '50.2', '51.2', '151.2',\n       '52.2', '53.2', '54.2', '55.2', '57.2', '56.2', '58.2', '60.2', '59.2',\n       '61.2', '62.2', '63.2', '64.2', '65.2', '66.2', '67.2', '72.2', '97.2',\n       '76.2', '77.2', '86.2', '78.2', '79.2', '80.2', '81.2', '82.2', '83.2',\n       '87.2', '89.2', '90.2', '91.2', '93.2', '95.2', '96.2', '98.2', '99.2',\n       '100.2', '450.2', '197.2', '101.2', '105.2', '106.2', '108.2', '107.2',\n       '300.2', '135.2', '152.2', '160r.2', '160.2', '61s.2', '300_open.2',\n       '610.1', '610.2'],\n      dtype='object')\nIndex(['150.1', '150.2', '150.3', '149.1', '149.2', '149.3', '1.1', '1.2',\n       '1.3', '2.2', '3.3', '7.3', '4.3', '5.3', '6.3', '8.3', '13.3', '34.3',\n       '18.3', '15.3', '16.3', '17.3', '21.3', '23.3', '24.3', '25.3', '25r.3',\n       '26.3', '28.3', '27.3', '31.3', '29.3', '30.3', '250.3', '32.3', '35.3',\n       '40.3', '41.3', '42.3', '44.3', '47.3', '48.3', '49.3', '50.3', '51.3',\n       '151.3', '52.3', '53.3', '54.3', '55.3', '56.3', '135.3', '152.3',\n       '150r.1', '150r.2', '150r.3', '300_open.3'],\n      dtype='object')\nIndex(['57.1', '60.1', '61.1', '62.1', '63.1', '64.1', '65.1', '66.1', '67.1',\n       '68.1', '72.1', '97.1', '69.1', '70.1', '71.1', '76.1', '77.1', '86.1',\n       '78.1', '79.1', '80.1', '81.1', '82.1', '83.1', '87.1', '88.1', '89.1',\n       '91.1', '93.1', '94.1', '95.1', '98.1', '99.1', '100.1', '450.1',\n       '197.1', '101.1', '105.1', '108.1', '109.1', '300.1', '110.1', '111.1',\n       '112.1', '113.1', '114.1', '160r.1', '160.1', '61s.1'],\n      dtype='object')\nIndex(['57.3', '60.3', '61.3', '62.3', '63.3', '64.3', '65.3', '66.3', '67.3',\n       '72.3', '97.3', '73.3', '76.3', '74.3', '75.3', '77.3', '86.3', '78.3',\n       '79.3', '80.3', '81.3', '82.3', '84.3', '83.3', '85.3', '87.3', '89.3',\n       '91.3', '92.3', '93.3', '95.3', '98.3', '99.3', '100.3', '450.3',\n       '197.3', '101.3', '102.3', '105.3', '103.3', '104.3', '108.3', '300.3',\n       '160r.3', '160.3', '61s.3', '610.3'],\n      dtype='object')\n"
     ]
    }
   ],
   "source": [
    "print(df.index[clustering.labels_ == 0])\n",
    "print(df.index[clustering.labels_ == 1])\n",
    "print(df.index[clustering.labels_ == 2])\n",
    "print(df.index[clustering.labels_ == 3])\n",
    "print(df.index[clustering.labels_ == 4])\n",
    "clusters = {}\n",
    "for inv in df.columns:\n",
    "    inv = inv.split('_')[1][1:]\n",
    "    if inv[-1].isdigit():\n",
    "        bus = inv\n",
    "        phase = ''\n",
    "    else:\n",
    "        phase = inv[-1]\n",
    "        bus = inv[:-1]\n",
    "    if phase == '':\n",
    "        for p in ['1', '2', '3']:\n",
    "            node = '.'.join([bus, p])\n",
    "            for cluster in [0, 1, 2, 3, 4]:\n",
    "                if node in df.index[clustering.labels_ == cluster]:\n",
    "                    if cluster not in clusters:\n",
    "                        clusters[cluster] = [node]\n",
    "                    clusters[cluster].append(node)\n",
    "    else:\n",
    "        if phase == 'a':\n",
    "            phase = '1'\n",
    "        if phase == 'b':\n",
    "            phase = '2'\n",
    "        if phase == 'c':\n",
    "            phase = '3'\n",
    "        node = '.'.join([bus, phase])\n",
    "        for cluster in [0, 1, 2, 3, 4]:\n",
    "            if node in df.index[clustering.labels_ == cluster]:\n",
    "                if cluster not in clusters:\n",
    "                    clusters[cluster] = [node]\n",
    "                clusters[cluster].append(node)"
   ]
  },
  {
   "cell_type": "code",
   "execution_count": 16,
   "metadata": {},
   "outputs": [],
   "source": [
    "full_nodes = []\n",
    "for val in clusters.values():\n",
    "    full_nodes.extend(val)"
   ]
  },
  {
   "cell_type": "code",
   "execution_count": 20,
   "metadata": {},
   "outputs": [],
   "source": [
    "full_nodes = list(set(full_nodes))"
   ]
  },
  {
   "cell_type": "code",
   "execution_count": 19,
   "metadata": {},
   "outputs": [
    {
     "output_type": "execute_result",
     "data": {
      "text/plain": [
       "            inverter_s1a  inverter_s2b  inverter_s4c  inverter_s5c  \\\n",
       "150.1      -1.729166e-08  2.085203e-10 -1.976790e-10 -1.977385e-10   \n",
       "150.2      -1.741285e-10 -1.687646e-08  6.949774e-11  6.935896e-11   \n",
       "150.3       1.313947e-10 -1.722871e-10 -1.717359e-08 -1.717284e-08   \n",
       "149.1      -2.458279e-08  2.955935e-10 -2.802476e-10 -2.803324e-10   \n",
       "149.2      -2.472522e-10 -2.399123e-08  9.765055e-11  9.745338e-11   \n",
       "...                  ...           ...           ...           ...   \n",
       "300_open.3  4.134306e-06  1.987006e-07 -1.285620e-05 -1.284891e-05   \n",
       "94_open.1  -1.351284e-05  4.972477e-06  4.297918e-07  4.242305e-07   \n",
       "610.1      -5.553214e-06 -1.553117e-06 -8.319717e-07 -8.288052e-07   \n",
       "610.2      -2.707441e-07 -4.567031e-06 -2.080615e-06 -2.082249e-06   \n",
       "610.3      -2.248828e-06 -4.818879e-07 -5.809541e-06 -5.806546e-06   \n",
       "\n",
       "            inverter_s6c  inverter_s7a  inverter_s9a  inverter_s10a  \\\n",
       "150.1      -1.977916e-10 -1.751138e-08 -1.766024e-08  -1.766540e-08   \n",
       "150.2       6.923928e-11 -3.068481e-10 -3.980187e-10  -3.981513e-10   \n",
       "150.3      -1.717227e-08  2.293274e-10  2.953906e-10   2.950939e-10   \n",
       "149.1      -2.804081e-10 -2.489306e-08 -2.510316e-08  -2.511015e-08   \n",
       "149.2       9.728307e-11 -4.356786e-10 -5.651020e-10  -5.652872e-10   \n",
       "...                  ...           ...           ...            ...   \n",
       "300_open.3 -1.284269e-05  7.431606e-06  9.732501e-06   9.744404e-06   \n",
       "94_open.1   4.194927e-07 -2.391851e-05 -3.099298e-05  -3.098098e-05   \n",
       "610.1      -8.261094e-07 -9.810839e-06 -1.269932e-05  -1.269234e-05   \n",
       "610.2      -2.083646e-06 -4.240043e-07 -4.984710e-07  -4.902372e-07   \n",
       "610.3      -5.803991e-06 -4.056127e-06 -5.327919e-06  -5.337365e-06   \n",
       "\n",
       "            inverter_s11a  inverter_s12b  ...  inverter_s102c  inverter_s103c  \\\n",
       "150.1       -1.766056e-08   4.632290e-10  ...   -1.175325e-09   -1.180300e-09   \n",
       "150.2       -3.980134e-10  -1.671734e-08  ...    4.264240e-10    4.282406e-10   \n",
       "150.3        2.948639e-10  -3.686078e-10  ...   -1.787196e-08   -1.790757e-08   \n",
       "149.1       -2.510310e-08   6.568068e-10  ...   -1.667573e-09   -1.674689e-09   \n",
       "149.2       -5.650878e-10  -2.375966e-08  ...    5.977960e-10    6.003598e-10   \n",
       "...                   ...            ...  ...             ...             ...   \n",
       "300_open.3   9.746204e-06   3.026345e-07  ...   -3.873889e-05   -3.883073e-05   \n",
       "94_open.1   -3.096359e-05   1.139917e-05  ...   -7.570321e-07   -7.415623e-07   \n",
       "610.1       -1.268484e-05  -3.549615e-06  ...   -5.006545e-06   -5.057478e-06   \n",
       "610.2       -4.864001e-07  -1.024671e-05  ...   -1.716468e-05   -1.718591e-05   \n",
       "610.3       -5.339665e-06  -9.979828e-07  ...   -4.408662e-05   -4.419569e-05   \n",
       "\n",
       "            inverter_s104c  inverter_s106b  inverter_s107b  inverter_s109a  \\\n",
       "150.1        -1.185306e-09    1.160781e-09    1.158903e-09   -1.858338e-08   \n",
       "150.2         4.300573e-10   -1.622870e-08   -1.622142e-08   -1.083340e-09   \n",
       "150.3        -1.794342e-08   -1.036529e-09   -1.037495e-09    9.009904e-10   \n",
       "149.1        -1.681850e-09    1.648661e-09    1.646000e-09   -2.640383e-08   \n",
       "149.2         6.029230e-10   -2.304117e-08   -2.303036e-08   -1.538370e-09   \n",
       "...                    ...             ...             ...             ...   \n",
       "300_open.3   -3.892297e-05   -2.781922e-06   -2.816501e-06    1.535775e-05   \n",
       "94_open.1    -7.261726e-07    2.762542e-05    2.765887e-05   -6.920522e-05   \n",
       "610.1        -5.108555e-06   -1.510152e-05   -1.512444e-05   -4.516284e-05   \n",
       "610.2        -1.720741e-05   -3.536890e-05   -3.532001e-05   -1.460811e-06   \n",
       "610.3        -4.430541e-05   -9.516946e-07   -9.121728e-07   -1.932875e-05   \n",
       "\n",
       "            inverter_s111a  inverter_s112a  inverter_s113a  inverter_s114a  \n",
       "150.1        -1.861345e-08   -1.859936e-08   -1.860422e-08   -1.861454e-08  \n",
       "150.2        -1.085461e-09   -1.084568e-09   -1.085049e-09   -1.085738e-09  \n",
       "150.3         9.020138e-10    9.010883e-10    9.006254e-10    9.011423e-10  \n",
       "149.1        -2.644651e-08   -2.642629e-08   -2.643289e-08   -2.644761e-08  \n",
       "149.2        -1.541392e-09   -1.540113e-09   -1.540789e-09   -1.541772e-09  \n",
       "...                    ...             ...             ...             ...  \n",
       "300_open.3    1.538374e-05    1.537889e-05    1.539326e-05    1.539935e-05  \n",
       "94_open.1    -6.931616e-05   -6.924370e-05   -6.923310e-05   -6.927899e-05  \n",
       "610.1        -4.523847e-05   -4.519029e-05   -4.518478e-05   -4.521562e-05  \n",
       "610.2        -1.462504e-06   -1.442884e-06   -1.416941e-06   -1.424727e-06  \n",
       "610.3        -1.936506e-05   -1.936539e-05   -1.939543e-05   -1.940126e-05  \n",
       "\n",
       "[278 rows x 91 columns]"
      ],
      "text/html": "<div>\n<style scoped>\n    .dataframe tbody tr th:only-of-type {\n        vertical-align: middle;\n    }\n\n    .dataframe tbody tr th {\n        vertical-align: top;\n    }\n\n    .dataframe thead th {\n        text-align: right;\n    }\n</style>\n<table border=\"1\" class=\"dataframe\">\n  <thead>\n    <tr style=\"text-align: right;\">\n      <th></th>\n      <th>inverter_s1a</th>\n      <th>inverter_s2b</th>\n      <th>inverter_s4c</th>\n      <th>inverter_s5c</th>\n      <th>inverter_s6c</th>\n      <th>inverter_s7a</th>\n      <th>inverter_s9a</th>\n      <th>inverter_s10a</th>\n      <th>inverter_s11a</th>\n      <th>inverter_s12b</th>\n      <th>...</th>\n      <th>inverter_s102c</th>\n      <th>inverter_s103c</th>\n      <th>inverter_s104c</th>\n      <th>inverter_s106b</th>\n      <th>inverter_s107b</th>\n      <th>inverter_s109a</th>\n      <th>inverter_s111a</th>\n      <th>inverter_s112a</th>\n      <th>inverter_s113a</th>\n      <th>inverter_s114a</th>\n    </tr>\n  </thead>\n  <tbody>\n    <tr>\n      <th>150.1</th>\n      <td>-1.729166e-08</td>\n      <td>2.085203e-10</td>\n      <td>-1.976790e-10</td>\n      <td>-1.977385e-10</td>\n      <td>-1.977916e-10</td>\n      <td>-1.751138e-08</td>\n      <td>-1.766024e-08</td>\n      <td>-1.766540e-08</td>\n      <td>-1.766056e-08</td>\n      <td>4.632290e-10</td>\n      <td>...</td>\n      <td>-1.175325e-09</td>\n      <td>-1.180300e-09</td>\n      <td>-1.185306e-09</td>\n      <td>1.160781e-09</td>\n      <td>1.158903e-09</td>\n      <td>-1.858338e-08</td>\n      <td>-1.861345e-08</td>\n      <td>-1.859936e-08</td>\n      <td>-1.860422e-08</td>\n      <td>-1.861454e-08</td>\n    </tr>\n    <tr>\n      <th>150.2</th>\n      <td>-1.741285e-10</td>\n      <td>-1.687646e-08</td>\n      <td>6.949774e-11</td>\n      <td>6.935896e-11</td>\n      <td>6.923928e-11</td>\n      <td>-3.068481e-10</td>\n      <td>-3.980187e-10</td>\n      <td>-3.981513e-10</td>\n      <td>-3.980134e-10</td>\n      <td>-1.671734e-08</td>\n      <td>...</td>\n      <td>4.264240e-10</td>\n      <td>4.282406e-10</td>\n      <td>4.300573e-10</td>\n      <td>-1.622870e-08</td>\n      <td>-1.622142e-08</td>\n      <td>-1.083340e-09</td>\n      <td>-1.085461e-09</td>\n      <td>-1.084568e-09</td>\n      <td>-1.085049e-09</td>\n      <td>-1.085738e-09</td>\n    </tr>\n    <tr>\n      <th>150.3</th>\n      <td>1.313947e-10</td>\n      <td>-1.722871e-10</td>\n      <td>-1.717359e-08</td>\n      <td>-1.717284e-08</td>\n      <td>-1.717227e-08</td>\n      <td>2.293274e-10</td>\n      <td>2.953906e-10</td>\n      <td>2.950939e-10</td>\n      <td>2.948639e-10</td>\n      <td>-3.686078e-10</td>\n      <td>...</td>\n      <td>-1.787196e-08</td>\n      <td>-1.790757e-08</td>\n      <td>-1.794342e-08</td>\n      <td>-1.036529e-09</td>\n      <td>-1.037495e-09</td>\n      <td>9.009904e-10</td>\n      <td>9.020138e-10</td>\n      <td>9.010883e-10</td>\n      <td>9.006254e-10</td>\n      <td>9.011423e-10</td>\n    </tr>\n    <tr>\n      <th>149.1</th>\n      <td>-2.458279e-08</td>\n      <td>2.955935e-10</td>\n      <td>-2.802476e-10</td>\n      <td>-2.803324e-10</td>\n      <td>-2.804081e-10</td>\n      <td>-2.489306e-08</td>\n      <td>-2.510316e-08</td>\n      <td>-2.511015e-08</td>\n      <td>-2.510310e-08</td>\n      <td>6.568068e-10</td>\n      <td>...</td>\n      <td>-1.667573e-09</td>\n      <td>-1.674689e-09</td>\n      <td>-1.681850e-09</td>\n      <td>1.648661e-09</td>\n      <td>1.646000e-09</td>\n      <td>-2.640383e-08</td>\n      <td>-2.644651e-08</td>\n      <td>-2.642629e-08</td>\n      <td>-2.643289e-08</td>\n      <td>-2.644761e-08</td>\n    </tr>\n    <tr>\n      <th>149.2</th>\n      <td>-2.472522e-10</td>\n      <td>-2.399123e-08</td>\n      <td>9.765055e-11</td>\n      <td>9.745338e-11</td>\n      <td>9.728307e-11</td>\n      <td>-4.356786e-10</td>\n      <td>-5.651020e-10</td>\n      <td>-5.652872e-10</td>\n      <td>-5.650878e-10</td>\n      <td>-2.375966e-08</td>\n      <td>...</td>\n      <td>5.977960e-10</td>\n      <td>6.003598e-10</td>\n      <td>6.029230e-10</td>\n      <td>-2.304117e-08</td>\n      <td>-2.303036e-08</td>\n      <td>-1.538370e-09</td>\n      <td>-1.541392e-09</td>\n      <td>-1.540113e-09</td>\n      <td>-1.540789e-09</td>\n      <td>-1.541772e-09</td>\n    </tr>\n    <tr>\n      <th>...</th>\n      <td>...</td>\n      <td>...</td>\n      <td>...</td>\n      <td>...</td>\n      <td>...</td>\n      <td>...</td>\n      <td>...</td>\n      <td>...</td>\n      <td>...</td>\n      <td>...</td>\n      <td>...</td>\n      <td>...</td>\n      <td>...</td>\n      <td>...</td>\n      <td>...</td>\n      <td>...</td>\n      <td>...</td>\n      <td>...</td>\n      <td>...</td>\n      <td>...</td>\n      <td>...</td>\n    </tr>\n    <tr>\n      <th>300_open.3</th>\n      <td>4.134306e-06</td>\n      <td>1.987006e-07</td>\n      <td>-1.285620e-05</td>\n      <td>-1.284891e-05</td>\n      <td>-1.284269e-05</td>\n      <td>7.431606e-06</td>\n      <td>9.732501e-06</td>\n      <td>9.744404e-06</td>\n      <td>9.746204e-06</td>\n      <td>3.026345e-07</td>\n      <td>...</td>\n      <td>-3.873889e-05</td>\n      <td>-3.883073e-05</td>\n      <td>-3.892297e-05</td>\n      <td>-2.781922e-06</td>\n      <td>-2.816501e-06</td>\n      <td>1.535775e-05</td>\n      <td>1.538374e-05</td>\n      <td>1.537889e-05</td>\n      <td>1.539326e-05</td>\n      <td>1.539935e-05</td>\n    </tr>\n    <tr>\n      <th>94_open.1</th>\n      <td>-1.351284e-05</td>\n      <td>4.972477e-06</td>\n      <td>4.297918e-07</td>\n      <td>4.242305e-07</td>\n      <td>4.194927e-07</td>\n      <td>-2.391851e-05</td>\n      <td>-3.099298e-05</td>\n      <td>-3.098098e-05</td>\n      <td>-3.096359e-05</td>\n      <td>1.139917e-05</td>\n      <td>...</td>\n      <td>-7.570321e-07</td>\n      <td>-7.415623e-07</td>\n      <td>-7.261726e-07</td>\n      <td>2.762542e-05</td>\n      <td>2.765887e-05</td>\n      <td>-6.920522e-05</td>\n      <td>-6.931616e-05</td>\n      <td>-6.924370e-05</td>\n      <td>-6.923310e-05</td>\n      <td>-6.927899e-05</td>\n    </tr>\n    <tr>\n      <th>610.1</th>\n      <td>-5.553214e-06</td>\n      <td>-1.553117e-06</td>\n      <td>-8.319717e-07</td>\n      <td>-8.288052e-07</td>\n      <td>-8.261094e-07</td>\n      <td>-9.810839e-06</td>\n      <td>-1.269932e-05</td>\n      <td>-1.269234e-05</td>\n      <td>-1.268484e-05</td>\n      <td>-3.549615e-06</td>\n      <td>...</td>\n      <td>-5.006545e-06</td>\n      <td>-5.057478e-06</td>\n      <td>-5.108555e-06</td>\n      <td>-1.510152e-05</td>\n      <td>-1.512444e-05</td>\n      <td>-4.516284e-05</td>\n      <td>-4.523847e-05</td>\n      <td>-4.519029e-05</td>\n      <td>-4.518478e-05</td>\n      <td>-4.521562e-05</td>\n    </tr>\n    <tr>\n      <th>610.2</th>\n      <td>-2.707441e-07</td>\n      <td>-4.567031e-06</td>\n      <td>-2.080615e-06</td>\n      <td>-2.082249e-06</td>\n      <td>-2.083646e-06</td>\n      <td>-4.240043e-07</td>\n      <td>-4.984710e-07</td>\n      <td>-4.902372e-07</td>\n      <td>-4.864001e-07</td>\n      <td>-1.024671e-05</td>\n      <td>...</td>\n      <td>-1.716468e-05</td>\n      <td>-1.718591e-05</td>\n      <td>-1.720741e-05</td>\n      <td>-3.536890e-05</td>\n      <td>-3.532001e-05</td>\n      <td>-1.460811e-06</td>\n      <td>-1.462504e-06</td>\n      <td>-1.442884e-06</td>\n      <td>-1.416941e-06</td>\n      <td>-1.424727e-06</td>\n    </tr>\n    <tr>\n      <th>610.3</th>\n      <td>-2.248828e-06</td>\n      <td>-4.818879e-07</td>\n      <td>-5.809541e-06</td>\n      <td>-5.806546e-06</td>\n      <td>-5.803991e-06</td>\n      <td>-4.056127e-06</td>\n      <td>-5.327919e-06</td>\n      <td>-5.337365e-06</td>\n      <td>-5.339665e-06</td>\n      <td>-9.979828e-07</td>\n      <td>...</td>\n      <td>-4.408662e-05</td>\n      <td>-4.419569e-05</td>\n      <td>-4.430541e-05</td>\n      <td>-9.516946e-07</td>\n      <td>-9.121728e-07</td>\n      <td>-1.932875e-05</td>\n      <td>-1.936506e-05</td>\n      <td>-1.936539e-05</td>\n      <td>-1.939543e-05</td>\n      <td>-1.940126e-05</td>\n    </tr>\n  </tbody>\n</table>\n<p>278 rows × 91 columns</p>\n</div>"
     },
     "metadata": {},
     "execution_count": 19
    }
   ],
   "source": [
    "df"
   ]
  },
  {
   "cell_type": "code",
   "execution_count": 21,
   "metadata": {},
   "outputs": [
    {
     "output_type": "execute_result",
     "data": {
      "text/plain": [
       "       inverter_s1a  inverter_s2b  inverter_s4c  inverter_s5c  inverter_s6c  \\\n",
       "1.1       -0.000013  4.802333e-06  6.020252e-07  5.964625e-07  5.917577e-07   \n",
       "2.2        0.000001 -1.983045e-05  4.310531e-06  4.314183e-06  4.317286e-06   \n",
       "7.1       -0.000013  4.824927e-06  5.652642e-07  5.597212e-07  5.550245e-07   \n",
       "4.3        0.000004  6.928261e-07 -3.182547e-05 -2.342644e-05 -2.341138e-05   \n",
       "5.3        0.000004  6.917470e-07 -2.340777e-05 -3.700181e-05 -3.697439e-05   \n",
       "...             ...           ...           ...           ...           ...   \n",
       "109.1     -0.000015  5.681103e-06  3.508619e-07  3.446283e-07  3.392910e-07   \n",
       "111.1     -0.000015  5.681101e-06  3.468758e-07  3.406447e-07  3.353094e-07   \n",
       "112.1     -0.000015  5.674249e-06  3.475334e-07  3.413091e-07  3.359798e-07   \n",
       "113.1     -0.000015  5.664689e-06  3.452404e-07  3.390277e-07  3.337082e-07   \n",
       "114.1     -0.000015  5.667320e-06  3.443420e-07  3.381271e-07  3.328055e-07   \n",
       "\n",
       "       inverter_s7a  inverter_s9a  inverter_s10a  inverter_s11a  \\\n",
       "1.1       -0.000013 -1.351468e-05  -1.351031e-05  -1.350233e-05   \n",
       "2.2        0.000001  9.889675e-07   9.797381e-07   9.746400e-07   \n",
       "7.1       -0.000024 -2.380584e-05  -2.379878e-05  -2.378506e-05   \n",
       "4.3        0.000004  4.384281e-06   4.390190e-06   4.391369e-06   \n",
       "5.3        0.000004  4.377439e-06   4.383339e-06   4.384516e-06   \n",
       "...             ...           ...            ...            ...   \n",
       "109.1     -0.000027 -3.465092e-05  -3.463332e-05  -3.461434e-05   \n",
       "111.1     -0.000027 -3.464669e-05  -3.462892e-05  -3.461000e-05   \n",
       "112.1     -0.000027 -3.460605e-05  -3.458834e-05  -3.456943e-05   \n",
       "113.1     -0.000027 -3.454593e-05  -3.452818e-05  -3.450933e-05   \n",
       "114.1     -0.000027 -3.456086e-05  -3.454306e-05  -3.452421e-05   \n",
       "\n",
       "       inverter_s12b  ...  inverter_s102c  inverter_s103c  inverter_s104c  \\\n",
       "1.1     5.031024e-06  ...   -5.220650e-07   -5.202245e-07   -5.184105e-07   \n",
       "2.2    -1.227943e-05  ...    4.733658e-06    4.740785e-06    4.747974e-06   \n",
       "7.1     8.707505e-06  ...   -7.804477e-07   -7.769100e-07   -7.734168e-07   \n",
       "4.3     3.540906e-07  ...   -1.289840e-05   -1.293122e-05   -1.296420e-05   \n",
       "5.3     3.535440e-07  ...   -1.287835e-05   -1.291111e-05   -1.294404e-05   \n",
       "...              ...  ...             ...             ...             ...   \n",
       "109.1   1.301349e-05  ...    3.912333e-06    3.969808e-06    4.027293e-06   \n",
       "111.1   1.301345e-05  ...    3.882309e-06    3.938809e-06    3.995313e-06   \n",
       "112.1   1.299776e-05  ...    3.885730e-06    3.942425e-06    3.999126e-06   \n",
       "113.1   1.297585e-05  ...    3.866321e-06    3.922503e-06    3.978688e-06   \n",
       "114.1   1.298186e-05  ...    3.860141e-06    3.916090e-06    3.972041e-06   \n",
       "\n",
       "       inverter_s106b  inverter_s107b  inverter_s109a  inverter_s111a  \\\n",
       "1.1      5.902873e-06    5.908880e-06   -1.377858e-05   -1.379955e-05   \n",
       "2.2     -1.118204e-05   -1.116513e-05    1.012091e-07    9.948251e-08   \n",
       "7.1      1.026170e-05    1.027251e-05   -2.430278e-05   -2.433988e-05   \n",
       "4.3     -8.705053e-07   -8.822578e-07    5.248534e-06    5.257370e-06   \n",
       "5.3     -8.691341e-07   -8.808683e-07    5.240360e-06    5.249182e-06   \n",
       "...               ...             ...             ...             ...   \n",
       "109.1    5.586792e-05    5.594131e-05   -1.910784e-04   -1.914375e-04   \n",
       "111.1    5.588167e-05    5.595497e-05   -1.911421e-04   -2.294227e-04   \n",
       "112.1    5.581055e-05    5.588379e-05   -1.908943e-04   -2.042297e-04   \n",
       "113.1    5.572241e-05    5.579549e-05   -1.905999e-04   -2.039187e-04   \n",
       "114.1    5.575195e-05    5.582504e-05   -1.907054e-04   -2.040339e-04   \n",
       "\n",
       "       inverter_s112a  inverter_s113a  inverter_s114a  \n",
       "1.1     -1.378434e-05   -1.378022e-05   -1.378948e-05  \n",
       "2.2      9.435252e-08    8.580664e-08    8.748832e-08  \n",
       "7.1     -2.431341e-05   -2.430674e-05   -2.432294e-05  \n",
       "4.3      5.255923e-06    5.261091e-06    5.263086e-06  \n",
       "5.3      5.247738e-06    5.252898e-06    5.254889e-06  \n",
       "...               ...             ...             ...  \n",
       "109.1   -1.912331e-04   -1.912408e-04   -1.913779e-04  \n",
       "111.1   -2.042725e-04   -2.042793e-04   -2.044297e-04  \n",
       "112.1   -2.094143e-04   -2.094222e-04   -2.095789e-04  \n",
       "113.1   -2.090983e-04   -2.318724e-04   -2.320538e-04  \n",
       "114.1   -2.092182e-04   -2.320109e-04   -2.463397e-04  \n",
       "\n",
       "[95 rows x 91 columns]"
      ],
      "text/html": "<div>\n<style scoped>\n    .dataframe tbody tr th:only-of-type {\n        vertical-align: middle;\n    }\n\n    .dataframe tbody tr th {\n        vertical-align: top;\n    }\n\n    .dataframe thead th {\n        text-align: right;\n    }\n</style>\n<table border=\"1\" class=\"dataframe\">\n  <thead>\n    <tr style=\"text-align: right;\">\n      <th></th>\n      <th>inverter_s1a</th>\n      <th>inverter_s2b</th>\n      <th>inverter_s4c</th>\n      <th>inverter_s5c</th>\n      <th>inverter_s6c</th>\n      <th>inverter_s7a</th>\n      <th>inverter_s9a</th>\n      <th>inverter_s10a</th>\n      <th>inverter_s11a</th>\n      <th>inverter_s12b</th>\n      <th>...</th>\n      <th>inverter_s102c</th>\n      <th>inverter_s103c</th>\n      <th>inverter_s104c</th>\n      <th>inverter_s106b</th>\n      <th>inverter_s107b</th>\n      <th>inverter_s109a</th>\n      <th>inverter_s111a</th>\n      <th>inverter_s112a</th>\n      <th>inverter_s113a</th>\n      <th>inverter_s114a</th>\n    </tr>\n  </thead>\n  <tbody>\n    <tr>\n      <th>1.1</th>\n      <td>-0.000013</td>\n      <td>4.802333e-06</td>\n      <td>6.020252e-07</td>\n      <td>5.964625e-07</td>\n      <td>5.917577e-07</td>\n      <td>-0.000013</td>\n      <td>-1.351468e-05</td>\n      <td>-1.351031e-05</td>\n      <td>-1.350233e-05</td>\n      <td>5.031024e-06</td>\n      <td>...</td>\n      <td>-5.220650e-07</td>\n      <td>-5.202245e-07</td>\n      <td>-5.184105e-07</td>\n      <td>5.902873e-06</td>\n      <td>5.908880e-06</td>\n      <td>-1.377858e-05</td>\n      <td>-1.379955e-05</td>\n      <td>-1.378434e-05</td>\n      <td>-1.378022e-05</td>\n      <td>-1.378948e-05</td>\n    </tr>\n    <tr>\n      <th>2.2</th>\n      <td>0.000001</td>\n      <td>-1.983045e-05</td>\n      <td>4.310531e-06</td>\n      <td>4.314183e-06</td>\n      <td>4.317286e-06</td>\n      <td>0.000001</td>\n      <td>9.889675e-07</td>\n      <td>9.797381e-07</td>\n      <td>9.746400e-07</td>\n      <td>-1.227943e-05</td>\n      <td>...</td>\n      <td>4.733658e-06</td>\n      <td>4.740785e-06</td>\n      <td>4.747974e-06</td>\n      <td>-1.118204e-05</td>\n      <td>-1.116513e-05</td>\n      <td>1.012091e-07</td>\n      <td>9.948251e-08</td>\n      <td>9.435252e-08</td>\n      <td>8.580664e-08</td>\n      <td>8.748832e-08</td>\n    </tr>\n    <tr>\n      <th>7.1</th>\n      <td>-0.000013</td>\n      <td>4.824927e-06</td>\n      <td>5.652642e-07</td>\n      <td>5.597212e-07</td>\n      <td>5.550245e-07</td>\n      <td>-0.000024</td>\n      <td>-2.380584e-05</td>\n      <td>-2.379878e-05</td>\n      <td>-2.378506e-05</td>\n      <td>8.707505e-06</td>\n      <td>...</td>\n      <td>-7.804477e-07</td>\n      <td>-7.769100e-07</td>\n      <td>-7.734168e-07</td>\n      <td>1.026170e-05</td>\n      <td>1.027251e-05</td>\n      <td>-2.430278e-05</td>\n      <td>-2.433988e-05</td>\n      <td>-2.431341e-05</td>\n      <td>-2.430674e-05</td>\n      <td>-2.432294e-05</td>\n    </tr>\n    <tr>\n      <th>4.3</th>\n      <td>0.000004</td>\n      <td>6.928261e-07</td>\n      <td>-3.182547e-05</td>\n      <td>-2.342644e-05</td>\n      <td>-2.341138e-05</td>\n      <td>0.000004</td>\n      <td>4.384281e-06</td>\n      <td>4.390190e-06</td>\n      <td>4.391369e-06</td>\n      <td>3.540906e-07</td>\n      <td>...</td>\n      <td>-1.289840e-05</td>\n      <td>-1.293122e-05</td>\n      <td>-1.296420e-05</td>\n      <td>-8.705053e-07</td>\n      <td>-8.822578e-07</td>\n      <td>5.248534e-06</td>\n      <td>5.257370e-06</td>\n      <td>5.255923e-06</td>\n      <td>5.261091e-06</td>\n      <td>5.263086e-06</td>\n    </tr>\n    <tr>\n      <th>5.3</th>\n      <td>0.000004</td>\n      <td>6.917470e-07</td>\n      <td>-2.340777e-05</td>\n      <td>-3.700181e-05</td>\n      <td>-3.697439e-05</td>\n      <td>0.000004</td>\n      <td>4.377439e-06</td>\n      <td>4.383339e-06</td>\n      <td>4.384516e-06</td>\n      <td>3.535440e-07</td>\n      <td>...</td>\n      <td>-1.287835e-05</td>\n      <td>-1.291111e-05</td>\n      <td>-1.294404e-05</td>\n      <td>-8.691341e-07</td>\n      <td>-8.808683e-07</td>\n      <td>5.240360e-06</td>\n      <td>5.249182e-06</td>\n      <td>5.247738e-06</td>\n      <td>5.252898e-06</td>\n      <td>5.254889e-06</td>\n    </tr>\n    <tr>\n      <th>...</th>\n      <td>...</td>\n      <td>...</td>\n      <td>...</td>\n      <td>...</td>\n      <td>...</td>\n      <td>...</td>\n      <td>...</td>\n      <td>...</td>\n      <td>...</td>\n      <td>...</td>\n      <td>...</td>\n      <td>...</td>\n      <td>...</td>\n      <td>...</td>\n      <td>...</td>\n      <td>...</td>\n      <td>...</td>\n      <td>...</td>\n      <td>...</td>\n      <td>...</td>\n      <td>...</td>\n    </tr>\n    <tr>\n      <th>109.1</th>\n      <td>-0.000015</td>\n      <td>5.681103e-06</td>\n      <td>3.508619e-07</td>\n      <td>3.446283e-07</td>\n      <td>3.392910e-07</td>\n      <td>-0.000027</td>\n      <td>-3.465092e-05</td>\n      <td>-3.463332e-05</td>\n      <td>-3.461434e-05</td>\n      <td>1.301349e-05</td>\n      <td>...</td>\n      <td>3.912333e-06</td>\n      <td>3.969808e-06</td>\n      <td>4.027293e-06</td>\n      <td>5.586792e-05</td>\n      <td>5.594131e-05</td>\n      <td>-1.910784e-04</td>\n      <td>-1.914375e-04</td>\n      <td>-1.912331e-04</td>\n      <td>-1.912408e-04</td>\n      <td>-1.913779e-04</td>\n    </tr>\n    <tr>\n      <th>111.1</th>\n      <td>-0.000015</td>\n      <td>5.681101e-06</td>\n      <td>3.468758e-07</td>\n      <td>3.406447e-07</td>\n      <td>3.353094e-07</td>\n      <td>-0.000027</td>\n      <td>-3.464669e-05</td>\n      <td>-3.462892e-05</td>\n      <td>-3.461000e-05</td>\n      <td>1.301345e-05</td>\n      <td>...</td>\n      <td>3.882309e-06</td>\n      <td>3.938809e-06</td>\n      <td>3.995313e-06</td>\n      <td>5.588167e-05</td>\n      <td>5.595497e-05</td>\n      <td>-1.911421e-04</td>\n      <td>-2.294227e-04</td>\n      <td>-2.042725e-04</td>\n      <td>-2.042793e-04</td>\n      <td>-2.044297e-04</td>\n    </tr>\n    <tr>\n      <th>112.1</th>\n      <td>-0.000015</td>\n      <td>5.674249e-06</td>\n      <td>3.475334e-07</td>\n      <td>3.413091e-07</td>\n      <td>3.359798e-07</td>\n      <td>-0.000027</td>\n      <td>-3.460605e-05</td>\n      <td>-3.458834e-05</td>\n      <td>-3.456943e-05</td>\n      <td>1.299776e-05</td>\n      <td>...</td>\n      <td>3.885730e-06</td>\n      <td>3.942425e-06</td>\n      <td>3.999126e-06</td>\n      <td>5.581055e-05</td>\n      <td>5.588379e-05</td>\n      <td>-1.908943e-04</td>\n      <td>-2.042297e-04</td>\n      <td>-2.094143e-04</td>\n      <td>-2.094222e-04</td>\n      <td>-2.095789e-04</td>\n    </tr>\n    <tr>\n      <th>113.1</th>\n      <td>-0.000015</td>\n      <td>5.664689e-06</td>\n      <td>3.452404e-07</td>\n      <td>3.390277e-07</td>\n      <td>3.337082e-07</td>\n      <td>-0.000027</td>\n      <td>-3.454593e-05</td>\n      <td>-3.452818e-05</td>\n      <td>-3.450933e-05</td>\n      <td>1.297585e-05</td>\n      <td>...</td>\n      <td>3.866321e-06</td>\n      <td>3.922503e-06</td>\n      <td>3.978688e-06</td>\n      <td>5.572241e-05</td>\n      <td>5.579549e-05</td>\n      <td>-1.905999e-04</td>\n      <td>-2.039187e-04</td>\n      <td>-2.090983e-04</td>\n      <td>-2.318724e-04</td>\n      <td>-2.320538e-04</td>\n    </tr>\n    <tr>\n      <th>114.1</th>\n      <td>-0.000015</td>\n      <td>5.667320e-06</td>\n      <td>3.443420e-07</td>\n      <td>3.381271e-07</td>\n      <td>3.328055e-07</td>\n      <td>-0.000027</td>\n      <td>-3.456086e-05</td>\n      <td>-3.454306e-05</td>\n      <td>-3.452421e-05</td>\n      <td>1.298186e-05</td>\n      <td>...</td>\n      <td>3.860141e-06</td>\n      <td>3.916090e-06</td>\n      <td>3.972041e-06</td>\n      <td>5.575195e-05</td>\n      <td>5.582504e-05</td>\n      <td>-1.907054e-04</td>\n      <td>-2.040339e-04</td>\n      <td>-2.092182e-04</td>\n      <td>-2.320109e-04</td>\n      <td>-2.463397e-04</td>\n    </tr>\n  </tbody>\n</table>\n<p>95 rows × 91 columns</p>\n</div>"
     },
     "metadata": {},
     "execution_count": 21
    }
   ],
   "source": [
    "df[df.index.isin(full_nodes)]"
   ]
  },
  {
   "cell_type": "code",
   "execution_count": null,
   "metadata": {},
   "outputs": [],
   "source": []
  }
 ],
 "metadata": {
  "kernelspec": {
   "name": "python376jvsc74a57bd0df73d25fd294fd73f286886020865b4f57ae72ab4ad09a40ac0721948343460f",
   "display_name": "Python 3.7.6 64-bit ('pycigar-3': conda)"
  },
  "language_info": {
   "codemirror_mode": {
    "name": "ipython",
    "version": 3
   },
   "file_extension": ".py",
   "mimetype": "text/x-python",
   "name": "python",
   "nbconvert_exporter": "python",
   "pygments_lexer": "ipython3",
   "version": "3.7.6-final"
  },
  "metadata": {
   "interpreter": {
    "hash": "df73d25fd294fd73f286886020865b4f57ae72ab4ad09a40ac0721948343460f"
   }
  }
 },
 "nbformat": 4,
 "nbformat_minor": 2
}