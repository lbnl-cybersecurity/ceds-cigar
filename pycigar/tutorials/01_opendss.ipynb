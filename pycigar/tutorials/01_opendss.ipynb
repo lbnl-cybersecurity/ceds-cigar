{
 "cells": [
  {
   "cell_type": "markdown",
   "metadata": {},
   "source": [
    "# Tutorial 01: Running OpenDSS Simulations\n",
    "\n",
    "This tutorial walks through the process of running non-RL grid simulations in PyCIGAR.\n",
    "\n",
    "Keypoints: kernel, PyCIGAR API, run a simulation step."
   ]
  },
  {
   "cell_type": "markdown",
   "metadata": {},
   "source": [
    "## 0. OpenDSS\n",
    "\n",
    "OpenDSS is an electric power Distribution System Simulator (DSS) for supporting distributed resource integration and grid modernization efforts.\n",
    "\n",
    "PyCIGAR uses OpenDSS as a grid simulator. To interact with OpenDSS, we use the OpenDSSDirect, a OpenDSS Python API to interact with OpenDSS. A documentation can be found [here](http://dss-extensions.org/OpenDSSDirect.py/). Below is a sample code interacting with OpenDSS through OpenDSSDirect."
   ]
  },
  {
   "cell_type": "code",
   "execution_count": 1,
   "metadata": {},
   "outputs": [
    {
     "output_type": "stream",
     "name": "stdout",
     "text": "['s701a', 's702a', 's703a']\n"
    }
   ],
   "source": [
    "import opendssdirect as dss\n",
    "# load the pre-defined grid to opendss, we use the grid sample in /pycigar/tutorials/data/ieee3.dss\n",
    "# this grid is really simple and only contains 3 loads for the purpose of demonstration\n",
    "dss.run_command(\"Redirect ./data/ieee3.dss\")\n",
    "\n",
    "# get the list of load names to see if the grid is loaded sucessfully\n",
    "print(dss.Loads.AllNames())"
   ]
  },
  {
   "cell_type": "markdown",
   "metadata": {},
   "source": [
    "In the code above, we import `opendssdirect` library, load the pre-defined grid to `opendss` and get a list of all the loads in the grid. More modules [here](http://dss-extensions.org/OpenDSSDirect.py/opendssdirect.html).\n",
    "\n",
    "> **Note**: we import `opendssdirect` and call functions from it instead of creating an opendss object and interact with that opendss object **(!)**. As declaring by `opendssdirect`, it is an interface to opendss. This implies that if anywhere in the code we import the opendssdirect again (assume on the same computer process), we would get the interface and interact with the same opendss object. Because of this implementation, to have 2 distinct opendss instances, we need to create 2 distinct processes and call `opendssdirect` on these processes. \n",
    "\n",
    "> Each PyCIGAR environment requires 1 grid solver (opendss). Because we could not create multiple opendss objects on the same process, therefore each PyCIGAR environment has to create on a separate process. Most of the time, if you do not intend to train RL agent(s), you should not have to worry about creating multiple environments. "
   ]
  },
  {
   "cell_type": "markdown",
   "metadata": {},
   "source": [
    "## 1. Components of PyCIGAR\n",
    "### Kernel\n",
    "In all simulations of PyCIGAR, the high-level process is:\n",
    "\n",
    "1. Initialize components (e.g. controllers, devices, nodes,...)\n",
    "2. Run components\n",
    "3. Update components' values to the simulator (e.g. new load value at a node)\n",
    "4. Run the simulator (e.g. opendss)\n",
    "5. Update components (with new values from the simulator e.g. voltages,...)\n",
    "6. Back to step 2 until finish     \n",
    "     \n",
    "We need a central object to cordinate the process, it is responsible for all major activities in PyCIGAR. The central object is called `Kernel`. The `Kernel` has 4 `sub-kernels`:\n",
    "- `Simulation kernel`: manage the interaction with simulator. The Simulation kernel returns the PyCIGAR API to interact with the simulator. \n",
    "- `Device kernel`: manage all the devices in the grid. The Device kernel has a dictionary of devices in the grid: the device, the node that the device is connected to, and controllers that control the device. Each device is given a `device_id`.  \n",
    "- `Node kernel`: manage all the nodes in the grid. The Node kernel has a dictionary of nodes in the grid: the voltage profile at the node, the load profile at the node and the power, reactive power injection at a timestep. Each node is given a `node_id` (`node_id` is the same as load name in OpenDSS).\n",
    "- `Scenario kernel`: manage dynamical change at the beginning or during the simulation. For example, Scenario kernel change the load and solar profiles at the beginning if the simulation, update the controllers to enable hack at an inverter.  \n",
    "\n",
    "The code below shows how to create a `Kernel`."
   ]
  },
  {
   "cell_type": "code",
   "execution_count": 2,
   "metadata": {},
   "outputs": [],
   "source": [
    "from pycigar.core.kernel.kernel import Kernel\n",
    "\n",
    "k = Kernel(simulator=\"opendss\", sim_params=None)\n",
    "\n",
    "# get the 4 sub-kernels\n",
    "k_simulation = k.simulation\n",
    "k_scenario = k.scenario\n",
    "k_node = k.node\n",
    "k_device = k.device\n",
    "#####################################\n",
    "# get the kernel from the sub-kernels\n",
    "#these functions below should return the same kernel object\n",
    "k1 = k_simulation.master_kernel\n",
    "k2 = k_scenario.master_kernel\n",
    "k3 = k_node.master_kernel\n",
    "k4 = k_device.master_kernel\n",
    "\n",
    "# assert that we get the same kernel object\n",
    "assert(k1 == k2 == k3 == k4)"
   ]
  },
  {
   "cell_type": "markdown",
   "metadata": {},
   "source": [
    "In the code above, we [instantiate a kernel object `k`](https://github.com/lbnl-cybersecurity/ceds-cigar/blob/toan_dev/pycigar/core/kernel/kernel.py#L44) with simulator \"opendss\". The kernel invoke 4 sub-kernels we mentioned above. From the sub-kernels, we can get the kernel by attibute [`master_kernel`](https://github.com/lbnl-cybersecurity/ceds-cigar/blob/toan_dev/pycigar/core/kernel/simulation/base.py#L8).  "
   ]
  },
  {
   "cell_type": "markdown",
   "metadata": {},
   "source": [
    "### PyCIGAR API\n",
    "Even though OpenDSSDirect is the API to interact with OpenDSS, PyCIGAR provides PyCIGAR API to interact with the OpenDSS through OpenDSSDirect. The purpose is to standarize the API call across PyCIGAR so we could intergrate new simulator API quickly by wrapping the new simulator API with PyCIGAR API. To get the PyCIGAR API for OpenDSS:"
   ]
  },
  {
   "cell_type": "code",
   "execution_count": 3,
   "metadata": {},
   "outputs": [],
   "source": [
    "kernel_api = k.simulation.start_simulation()"
   ]
  },
  {
   "cell_type": "markdown",
   "metadata": {},
   "source": [
    "The `kernel_api` is an object define [here](https://github.com/lbnl-cybersecurity/ceds-cigar/blob/toan_dev/pycigar/utils/opendss/pseudo_api.py). We need to pass the `kernel_api` to 4 sub-kernels, so they could get and set information from OpenDSS."
   ]
  },
  {
   "cell_type": "code",
   "execution_count": 4,
   "metadata": {},
   "outputs": [],
   "source": [
    "k_simulation.pass_api(kernel_api)\n",
    "k_scenario.pass_api(kernel_api)\n",
    "k_node.pass_api(kernel_api)\n",
    "k_device.pass_api(kernel_api)\n",
    "\n",
    "# or just simply call \n",
    "k.pass_api(kernel_api)"
   ]
  },
  {
   "cell_type": "code",
   "execution_count": null,
   "metadata": {},
   "outputs": [],
   "source": [
    "Until now, we has instantiated kernel, get PyCIAR API to interact with OpenDSS. In the next section, we will learn how to feed the feeder to the simulator, add devices and change the load solar profiles. "
   ]
  },
  {
   "cell_type": "markdown",
   "metadata": {},
   "source": [
    "### PyCIGAR configurations file\n",
    "\n",
    "PyCIGAR configurations file define essential information to run a simulation (e.g. the directory of opendss file and load-solar profiles, list of installed devices at nodes,...). The configuration file for this tutorial [here](./data/pycigar_config.yaml).\n",
    "- `simulation_config`: contains information specific to opendss.\n",
    "- `scenario_config`: contrains the information about the installed devices and controllers. \n",
    "  - `network_data_directory`: directory to the load-solar profiles.\n",
    "  - `start_end_time`: list of start time and end time. This is the index number in load-solar profiles file `.csv`.  For example, if we want to run the experiment with load-solar profiles from line 100 to line 300, put here `[100, 300]`.\n",
    "  - `custom_configs`: contains additional parameters applied across the nodes.\n",
    "  - `nodes`: each node define by name (has to match with name in opendss in lowercase) and `devices` define the list of devices installed at that node. For the example below, node `s701a` has an PV inverter installed, the name of this device is `pv_1`. Whenever we have an device at a node, we also have an adversarial device of that device at the same node, the device identification is begin with `adversary`. For example in this case: `adversary_pv_1`. The node `s702a` and `s703a` do not have any devices thus you can delete them in the PyCIGAR configuration file. We let them here for demonstration purpose.\n",
    "```yaml\n",
    "simulation_config:\n",
    "  network_model_directory: './data/ieee3.dss'\n",
    "  custom_configs:  {solution_mode: 1,\n",
    "                    solution_number: 1,\n",
    "                    solution_step_size: 1,\n",
    "                    solution_control_mode: -1,\n",
    "                    solution_max_control_iterations: 1000000,\n",
    "                    solution_max_iterations: 30000,\n",
    "                    power_factor: 0.9}\n",
    "\n",
    "scenario_config:\n",
    "  network_data_directory: './data/load_solar_data.csv'\n",
    "  start_end_time: [100, 500]\n",
    "  custom_configs: {load_scaling_factor: 1.5,\n",
    "                   solar_scaling_factor: 3,\n",
    "                   slack_bus_voltage: 1.04,\n",
    "                   load_generation_noise: False,\n",
    "                   power_factor: 0.9}\n",
    "\n",
    "  nodes:\n",
    "      - name: s701a\n",
    "        devices:\n",
    "            - name: pv_1\n",
    "              type: pv_device\n",
    "              controller: fixed_controller\n",
    "              custom_configs: {default_control_setting: [0.98, 1.01, 1.01, 1.04, 1.06],\n",
    "                               low_pass_filter_measure: 1.2,\n",
    "                               low_pass_filter_output: 0.115}\n",
    "              adversary_controller: fixed_controller\n",
    "              adversary_custom_configs: {default_control_setting: [1.014, 1.015, 1.015, 1.016, 1.017]}\n",
    "              hack: [300, 0.4]\n",
    "      - name: s702a\n",
    "\n",
    "      - name: s703a\n",
    "```\n",
    "\n",
    "Let's read `.yaml` file to `sim_params` and create the `Kernel` again, this time with `sim_params`."
   ]
  },
  {
   "cell_type": "code",
   "execution_count": 1,
   "metadata": {},
   "outputs": [],
   "source": [
    "from pycigar.core.kernel.kernel import Kernel\n",
    "import yaml\n",
    "\n",
    "stream = open(\"./data/pycigar_config.yaml\", \"r\")\n",
    "sim_params = yaml.safe_load(stream)\n",
    "\n",
    "k = Kernel(simulator=\"opendss\", sim_params=sim_params)\n",
    "kernel_api = k.simulation.start_simulation()\n",
    "k.pass_api(kernel_api)"
   ]
  },
  {
   "cell_type": "code",
   "execution_count": 2,
   "metadata": {},
   "outputs": [
    {
     "output_type": "error",
     "ename": "IndexError",
     "evalue": "index 1 is out of bounds for axis 0 with size 1",
     "traceback": [
      "\u001b[0;31m---------------------------------------------------------------------------\u001b[0m",
      "\u001b[0;31mIndexError\u001b[0m                                Traceback (most recent call last)",
      "\u001b[0;32m<ipython-input-2-fb39cb576b15>\u001b[0m in \u001b[0;36m<module>\u001b[0;34m\u001b[0m\n\u001b[0;32m----> 1\u001b[0;31m \u001b[0mk\u001b[0m\u001b[0;34m.\u001b[0m\u001b[0mupdate\u001b[0m\u001b[0;34m(\u001b[0m\u001b[0mreset\u001b[0m\u001b[0;34m=\u001b[0m\u001b[0;32mTrue\u001b[0m\u001b[0;34m)\u001b[0m\u001b[0;34m\u001b[0m\u001b[0;34m\u001b[0m\u001b[0m\n\u001b[0m",
      "\u001b[0;32m~/Documents/GitHub/ceds-cigar/pycigar/core/kernel/kernel.py\u001b[0m in \u001b[0;36mupdate\u001b[0;34m(self, reset)\u001b[0m\n\u001b[1;32m    134\u001b[0m             \u001b[0mself\u001b[0m\u001b[0;34m.\u001b[0m\u001b[0mscenario\u001b[0m\u001b[0;34m.\u001b[0m\u001b[0mupdate\u001b[0m\u001b[0;34m(\u001b[0m\u001b[0mreset\u001b[0m\u001b[0;34m)\u001b[0m\u001b[0;34m\u001b[0m\u001b[0;34m\u001b[0m\u001b[0m\n\u001b[1;32m    135\u001b[0m \u001b[0;34m\u001b[0m\u001b[0m\n\u001b[0;32m--> 136\u001b[0;31m             \u001b[0mself\u001b[0m\u001b[0;34m.\u001b[0m\u001b[0mwarm_up_k_step\u001b[0m\u001b[0;34m(\u001b[0m\u001b[0;36m50\u001b[0m\u001b[0;34m)\u001b[0m\u001b[0;34m\u001b[0m\u001b[0;34m\u001b[0m\u001b[0m\n\u001b[0m\u001b[1;32m    137\u001b[0m             \u001b[0mlogger\u001b[0m\u001b[0;34m(\u001b[0m\u001b[0;34m)\u001b[0m\u001b[0;34m.\u001b[0m\u001b[0mset_active\u001b[0m\u001b[0;34m(\u001b[0m\u001b[0;34m)\u001b[0m\u001b[0;34m\u001b[0m\u001b[0;34m\u001b[0m\u001b[0m\n\u001b[1;32m    138\u001b[0m \u001b[0;34m\u001b[0m\u001b[0m\n",
      "\u001b[0;32m~/Documents/GitHub/ceds-cigar/pycigar/core/kernel/kernel.py\u001b[0m in \u001b[0;36mwarm_up_k_step\u001b[0;34m(self, k)\u001b[0m\n\u001b[1;32m    163\u001b[0m         \u001b[0;32mfor\u001b[0m \u001b[0m_\u001b[0m \u001b[0;32min\u001b[0m \u001b[0mrange\u001b[0m\u001b[0;34m(\u001b[0m\u001b[0mk\u001b[0m\u001b[0;34m)\u001b[0m\u001b[0;34m:\u001b[0m\u001b[0;34m\u001b[0m\u001b[0;34m\u001b[0m\u001b[0m\n\u001b[1;32m    164\u001b[0m             \u001b[0mself\u001b[0m\u001b[0;34m.\u001b[0m\u001b[0mtime\u001b[0m \u001b[0;34m+=\u001b[0m \u001b[0;36m1\u001b[0m\u001b[0;34m\u001b[0m\u001b[0;34m\u001b[0m\u001b[0m\n\u001b[0;32m--> 165\u001b[0;31m             \u001b[0mself\u001b[0m\u001b[0;34m.\u001b[0m\u001b[0mdevice\u001b[0m\u001b[0;34m.\u001b[0m\u001b[0mupdate\u001b[0m\u001b[0;34m(\u001b[0m\u001b[0mreset\u001b[0m\u001b[0;34m=\u001b[0m\u001b[0;32mFalse\u001b[0m\u001b[0;34m)\u001b[0m\u001b[0;34m\u001b[0m\u001b[0;34m\u001b[0m\u001b[0m\n\u001b[0m\u001b[1;32m    166\u001b[0m             \u001b[0mself\u001b[0m\u001b[0;34m.\u001b[0m\u001b[0mnode\u001b[0m\u001b[0;34m.\u001b[0m\u001b[0mupdate\u001b[0m\u001b[0;34m(\u001b[0m\u001b[0mreset\u001b[0m\u001b[0;34m=\u001b[0m\u001b[0;32mFalse\u001b[0m\u001b[0;34m)\u001b[0m\u001b[0;34m\u001b[0m\u001b[0;34m\u001b[0m\u001b[0m\n\u001b[1;32m    167\u001b[0m             \u001b[0mself\u001b[0m\u001b[0;34m.\u001b[0m\u001b[0msimulation\u001b[0m\u001b[0;34m.\u001b[0m\u001b[0mupdate\u001b[0m\u001b[0;34m(\u001b[0m\u001b[0mreset\u001b[0m\u001b[0;34m=\u001b[0m\u001b[0;32mFalse\u001b[0m\u001b[0;34m)\u001b[0m\u001b[0;34m\u001b[0m\u001b[0;34m\u001b[0m\u001b[0m\n",
      "\u001b[0;32m~/Documents/GitHub/ceds-cigar/pycigar/core/kernel/device/opendss.py\u001b[0m in \u001b[0;36mupdate\u001b[0;34m(self, reset)\u001b[0m\n\u001b[1;32m    222\u001b[0m             \u001b[0;31m# update pv device\u001b[0m\u001b[0;34m\u001b[0m\u001b[0;34m\u001b[0m\u001b[0;34m\u001b[0m\u001b[0m\n\u001b[1;32m    223\u001b[0m             \u001b[0;32mfor\u001b[0m \u001b[0mpv_device\u001b[0m \u001b[0;32min\u001b[0m \u001b[0mself\u001b[0m\u001b[0;34m.\u001b[0m\u001b[0mpv_device_ids\u001b[0m\u001b[0;34m:\u001b[0m\u001b[0;34m\u001b[0m\u001b[0;34m\u001b[0m\u001b[0m\n\u001b[0;32m--> 224\u001b[0;31m                 \u001b[0mself\u001b[0m\u001b[0;34m.\u001b[0m\u001b[0mdevices\u001b[0m\u001b[0;34m[\u001b[0m\u001b[0mpv_device\u001b[0m\u001b[0;34m]\u001b[0m\u001b[0;34m[\u001b[0m\u001b[0;34m\"device\"\u001b[0m\u001b[0;34m]\u001b[0m\u001b[0;34m.\u001b[0m\u001b[0mupdate\u001b[0m\u001b[0;34m(\u001b[0m\u001b[0mself\u001b[0m\u001b[0;34m.\u001b[0m\u001b[0mmaster_kernel\u001b[0m\u001b[0;34m)\u001b[0m\u001b[0;34m\u001b[0m\u001b[0;34m\u001b[0m\u001b[0m\n\u001b[0m\u001b[1;32m    225\u001b[0m \u001b[0;34m\u001b[0m\u001b[0m\n\u001b[1;32m    226\u001b[0m             \u001b[0;32mfor\u001b[0m \u001b[0mreg_device\u001b[0m \u001b[0;32min\u001b[0m \u001b[0mself\u001b[0m\u001b[0;34m.\u001b[0m\u001b[0mregulator_device_ids\u001b[0m\u001b[0;34m:\u001b[0m\u001b[0;34m\u001b[0m\u001b[0;34m\u001b[0m\u001b[0m\n",
      "\u001b[0;32m~/Documents/GitHub/ceds-cigar/pycigar/devices/pv_inverter_device.py\u001b[0m in \u001b[0;36mupdate\u001b[0;34m(self, k)\u001b[0m\n\u001b[1;32m     77\u001b[0m         \u001b[0mself\u001b[0m\u001b[0;34m.\u001b[0m\u001b[0mnode_id\u001b[0m \u001b[0;34m=\u001b[0m \u001b[0mnode_id\u001b[0m\u001b[0;34m\u001b[0m\u001b[0;34m\u001b[0m\u001b[0m\n\u001b[1;32m     78\u001b[0m         \u001b[0mSbar\u001b[0m \u001b[0;34m=\u001b[0m \u001b[0mself\u001b[0m\u001b[0;34m.\u001b[0m\u001b[0mSbar\u001b[0m\u001b[0;34m\u001b[0m\u001b[0;34m\u001b[0m\u001b[0m\n\u001b[0;32m---> 79\u001b[0;31m         \u001b[0msolar_irr\u001b[0m \u001b[0;34m=\u001b[0m \u001b[0mself\u001b[0m\u001b[0;34m.\u001b[0m\u001b[0msolar_generation\u001b[0m\u001b[0;34m[\u001b[0m\u001b[0mk\u001b[0m\u001b[0;34m.\u001b[0m\u001b[0mtime\u001b[0m\u001b[0;34m]\u001b[0m\u001b[0;34m\u001b[0m\u001b[0;34m\u001b[0m\u001b[0m\n\u001b[0m\u001b[1;32m     80\u001b[0m         \u001b[0mself\u001b[0m\u001b[0;34m.\u001b[0m\u001b[0msolar_irr\u001b[0m \u001b[0;34m=\u001b[0m \u001b[0msolar_irr\u001b[0m\u001b[0;34m\u001b[0m\u001b[0;34m\u001b[0m\u001b[0m\n\u001b[1;32m     81\u001b[0m         \u001b[0msolar_minval\u001b[0m \u001b[0;34m=\u001b[0m \u001b[0mself\u001b[0m\u001b[0;34m.\u001b[0m\u001b[0msolar_min_value\u001b[0m\u001b[0;34m\u001b[0m\u001b[0;34m\u001b[0m\u001b[0m\n",
      "\u001b[0;31mIndexError\u001b[0m: index 1 is out of bounds for axis 0 with size 1"
     ]
    }
   ],
   "source": [
    "k.update(reset=True)"
   ]
  },
  {
   "cell_type": "code",
   "execution_count": 5,
   "metadata": {},
   "outputs": [
    {
     "output_type": "execute_result",
     "data": {
      "text/plain": "{'pv_1': {'device': <pycigar.devices.pv_inverter_device.PVDevice at 0x7f2860205e50>,\n  'controller': <pycigar.controllers.fixed_controller.FixedController at 0x7f2860205a50>,\n  'node_id': 's701a'},\n 'adversary_pv_1': {'device': <pycigar.devices.pv_inverter_device.PVDevice at 0x7f2860205650>,\n  'controller': <pycigar.controllers.fixed_controller.FixedController at 0x7f2860205f90>,\n  'node_id': 's701a',\n  'hack_controller': <pycigar.controllers.fixed_controller.FixedController at 0x7f28601d8fd0>}}"
     },
     "metadata": {},
     "execution_count": 5
    }
   ],
   "source": [
    "k.device.devices"
   ]
  },
  {
   "cell_type": "code",
   "execution_count": null,
   "metadata": {},
   "outputs": [],
   "source": []
  }
 ],
 "metadata": {
  "kernelspec": {
   "display_name": "Python 3.7.6 64-bit ('pycigar': conda)",
   "language": "python",
   "name": "python37664bitpycigarcondaa2083d76d007443d8f9fd78ed773e7a0"
  },
  "language_info": {
   "codemirror_mode": {
    "name": "ipython",
    "version": 3
   },
   "file_extension": ".py",
   "mimetype": "text/x-python",
   "name": "python",
   "nbconvert_exporter": "python",
   "pygments_lexer": "ipython3",
   "version": "3.7.6-final"
  }
 },
 "nbformat": 4,
 "nbformat_minor": 2
}