{
 "cells": [
  {
   "cell_type": "markdown",
   "metadata": {},
   "source": [
    "# Tutorial 03: Adding custom PV devices to PyCIGAR\n",
    "\n",
    "This tutorial walks through the process of adding a custom PV device to PyCIGAR.\n",
    "\n",
    "Keypoints: device, register_devcon."
   ]
  },
  {
   "cell_type": "markdown",
   "metadata": {},
   "source": [
    "## PyCIGAR registration\n",
    "\n",
    "As long as the custom PV device inherits the original PV device, PyCIGAR will work. \n",
    "\n",
    "An implementation as in `pycigar/tutorials/sample_device/custom_pv_device.py`"
   ]
  },
  {
   "cell_type": "code",
   "execution_count": 1,
   "metadata": {},
   "outputs": [
    {
     "name": "stdout",
     "output_type": "stream",
     "text": [
      "WARNING:tensorflow:From /home/toanngo/anaconda3/envs/pycigar/lib/python3.7/site-packages/tensorflow_core/python/compat/v2_compat.py:65: disable_resource_variables (from tensorflow.python.ops.variable_scope) is deprecated and will be removed in a future version.\n",
      "Instructions for updating:\n",
      "non-resource variables are not supported in the long term\n"
     ]
    },
    {
     "data": {
      "text/plain": [
       "'sample_pv_device'"
      ]
     },
     "execution_count": 1,
     "metadata": {},
     "output_type": "execute_result"
    }
   ],
   "source": [
    "from pycigar.utils.registry import register_devcon\n",
    "from pycigar.tutorials.sample_device.sample_pv_device import SamplePVDevice\n",
    "\n",
    "register_devcon('sample_pv_device', SamplePVDevice)\n"
   ]
  },
  {
   "cell_type": "code",
   "execution_count": 2,
   "metadata": {},
   "outputs": [],
   "source": [
    "from pycigar.core.kernel.kernel import Kernel\n",
    "import yaml\n",
    "\n",
    "stream = open(\"./data/sample_device_pycigar_config.yaml\", \"r\")\n",
    "sim_params = yaml.safe_load(stream)\n",
    "\n",
    "k = Kernel(simulator=\"opendss\", sim_params=sim_params)\n",
    "kernel_api = k.simulation.start_simulation()\n",
    "k.pass_api(kernel_api)"
   ]
  },
  {
   "cell_type": "code",
   "execution_count": 3,
   "metadata": {},
   "outputs": [],
   "source": [
    "# this line initialize the experiment\n",
    "k.update(reset=True)\n",
    "# this line run experiment 1 step forward\n",
    "k.update(reset=False)"
   ]
  },
  {
   "cell_type": "code",
   "execution_count": null,
   "metadata": {},
   "outputs": [],
   "source": []
  }
 ],
 "metadata": {
  "kernelspec": {
   "display_name": "Python 3.7.6 64-bit ('pycigar': conda)",
   "language": "python",
   "name": "python37664bitpycigarcondaa2083d76d007443d8f9fd78ed773e7a0"
  },
  "language_info": {
   "codemirror_mode": {
    "name": "ipython",
    "version": 3
   },
   "file_extension": ".py",
   "mimetype": "text/x-python",
   "name": "python",
   "nbconvert_exporter": "python",
   "pygments_lexer": "ipython3",
   "version": "3.7.6"
  }
 },
 "nbformat": 4,
 "nbformat_minor": 2
}
