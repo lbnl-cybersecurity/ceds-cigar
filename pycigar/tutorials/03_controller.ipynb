{
 "cells": [
  {
   "cell_type": "markdown",
   "metadata": {},
   "source": [
    "# Tutorial 03: Adding rule-based controllers to PyCIGAR\n",
    "\n",
    "This tutorial walks through the process of adding a new rule-based controller to PyCIGAR.\n",
    "\n",
    "Keypoints: controller, register_devcon."
   ]
  },
  {
   "cell_type": "markdown",
   "metadata": {},
   "source": [
    "## PyCIGAR registration\n",
    "\n",
    "In the yaml file, we use a string `oscillation_fixed_controller`. It is the name of the controller, not the actual device class. \n",
    "\n",
    "We need PyCIGAR registration to register the new controller name with the controller class to PyCIGAR, so PyCIGAR will know where to look for the controller class definition.\n",
    "\n",
    "Assume that in `pycigar/tutorials/sample_controller/`, we have a new implementation of the controller for PV device (with a small custom modification), now we want to register it to PyCIGAR."
   ]
  },
  {
   "cell_type": "code",
   "execution_count": 1,
   "metadata": {},
   "outputs": [
    {
     "name": "stdout",
     "output_type": "stream",
     "text": [
      "WARNING:tensorflow:From /home/toanngo/anaconda3/envs/pycigar/lib/python3.7/site-packages/tensorflow_core/python/compat/v2_compat.py:65: disable_resource_variables (from tensorflow.python.ops.variable_scope) is deprecated and will be removed in a future version.\n",
      "Instructions for updating:\n",
      "non-resource variables are not supported in the long term\n"
     ]
    },
    {
     "data": {
      "text/plain": [
       "'sample_fixed_controller'"
      ]
     },
     "execution_count": 1,
     "metadata": {},
     "output_type": "execute_result"
    }
   ],
   "source": [
    "from pycigar.utils.registry import register_devcon\n",
    "from pycigar.tutorials.sample_controller.sample_fixed_controller import SampleFixedController\n",
    "\n",
    "register_devcon('sample_fixed_controller', SampleFixedController)\n"
   ]
  },
  {
   "cell_type": "code",
   "execution_count": 2,
   "metadata": {},
   "outputs": [],
   "source": [
    "from pycigar.core.kernel.kernel import Kernel\n",
    "import yaml\n",
    "\n",
    "stream = open(\"./data/sample_controller_pycigar_config.yaml\", \"r\")\n",
    "sim_params = yaml.safe_load(stream)\n",
    "\n",
    "k = Kernel(simulator=\"opendss\", sim_params=sim_params)\n",
    "kernel_api = k.simulation.start_simulation()\n",
    "k.pass_api(kernel_api)"
   ]
  },
  {
   "cell_type": "code",
   "execution_count": 3,
   "metadata": {},
   "outputs": [],
   "source": [
    "# this line initialize the experiment\n",
    "k.update(reset=True)\n",
    "# this line run experiment 1 step forward\n",
    "k.update(reset=False)"
   ]
  },
  {
   "cell_type": "code",
   "execution_count": null,
   "metadata": {},
   "outputs": [],
   "source": []
  }
 ],
 "metadata": {
  "kernelspec": {
   "display_name": "Python 3.7.6 64-bit ('pycigar': conda)",
   "language": "python",
   "name": "python376jvsc74a57bd057a50435fdf1c7de45ebafbeac9f338b1564d7490994834be82f96fc35413079"
  },
  "language_info": {
   "codemirror_mode": {
    "name": "ipython",
    "version": 3
   },
   "file_extension": ".py",
   "mimetype": "text/x-python",
   "name": "python",
   "nbconvert_exporter": "python",
   "pygments_lexer": "ipython3",
   "version": "3.7.6"
  }
 },
 "nbformat": 4,
 "nbformat_minor": 2
}