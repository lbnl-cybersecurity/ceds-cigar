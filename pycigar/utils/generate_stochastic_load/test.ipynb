{
 "cells": [
  {
   "cell_type": "code",
   "execution_count": 1,
   "metadata": {},
   "outputs": [],
   "source": [
    "from init import *\n",
    "from src.process_data import read_initial_data"
   ]
  },
  {
   "cell_type": "code",
   "execution_count": 10,
   "metadata": {},
   "outputs": [],
   "source": [
    "fi, fj, fk = read_initial_data(['data/7_MWp_P.csv', 'data/10_MWp_P.csv','data/12_MWp_P.csv', 'data/19_MWp_P.csv'], '15T', ['1S' ], [7, 10, 12, 19])"
   ]
  },
  {
   "cell_type": "code",
   "execution_count": 12,
   "metadata": {},
   "outputs": [
    {
     "output_type": "execute_result",
     "data": {
      "text/plain": [
       "                                                P\n",
       "2016-04-11 12:00:00.008333333-07:00  5.435515e+06\n",
       "2016-04-11 12:00:00.016666666-07:00  5.434872e+06\n",
       "2016-04-11 12:00:00.024999999-07:00  5.434465e+06\n",
       "2016-04-11 12:00:00.033333332-07:00  5.436486e+06"
      ],
      "text/html": "<div>\n<style scoped>\n    .dataframe tbody tr th:only-of-type {\n        vertical-align: middle;\n    }\n\n    .dataframe tbody tr th {\n        vertical-align: top;\n    }\n\n    .dataframe thead th {\n        text-align: right;\n    }\n</style>\n<table border=\"1\" class=\"dataframe\">\n  <thead>\n    <tr style=\"text-align: right;\">\n      <th></th>\n      <th>P</th>\n    </tr>\n  </thead>\n  <tbody>\n    <tr>\n      <th>2016-04-11 12:00:00.008333333-07:00</th>\n      <td>5.435515e+06</td>\n    </tr>\n    <tr>\n      <th>2016-04-11 12:00:00.016666666-07:00</th>\n      <td>5.434872e+06</td>\n    </tr>\n    <tr>\n      <th>2016-04-11 12:00:00.024999999-07:00</th>\n      <td>5.434465e+06</td>\n    </tr>\n    <tr>\n      <th>2016-04-11 12:00:00.033333332-07:00</th>\n      <td>5.436486e+06</td>\n    </tr>\n  </tbody>\n</table>\n</div>"
     },
     "metadata": {},
     "execution_count": 12
    }
   ],
   "source": [
    "#dataframe like\n",
    "#original data set\n",
    "fi[0][:4]"
   ]
  },
  {
   "cell_type": "code",
   "execution_count": 13,
   "metadata": {},
   "outputs": [
    {
     "output_type": "execute_result",
     "data": {
      "text/plain": [
       "                                     P\n",
       "2016-04-11 12:00:01-07:00 -8359.794002\n",
       "2016-04-11 12:00:02-07:00 -5347.395741\n",
       "2016-04-11 12:00:03-07:00  9688.947030\n",
       "2016-04-11 12:00:04-07:00  2918.302132"
      ],
      "text/html": "<div>\n<style scoped>\n    .dataframe tbody tr th:only-of-type {\n        vertical-align: middle;\n    }\n\n    .dataframe tbody tr th {\n        vertical-align: top;\n    }\n\n    .dataframe thead th {\n        text-align: right;\n    }\n</style>\n<table border=\"1\" class=\"dataframe\">\n  <thead>\n    <tr style=\"text-align: right;\">\n      <th></th>\n      <th>P</th>\n    </tr>\n  </thead>\n  <tbody>\n    <tr>\n      <th>2016-04-11 12:00:01-07:00</th>\n      <td>-8359.794002</td>\n    </tr>\n    <tr>\n      <th>2016-04-11 12:00:02-07:00</th>\n      <td>-5347.395741</td>\n    </tr>\n    <tr>\n      <th>2016-04-11 12:00:03-07:00</th>\n      <td>9688.947030</td>\n    </tr>\n    <tr>\n      <th>2016-04-11 12:00:04-07:00</th>\n      <td>2918.302132</td>\n    </tr>\n  </tbody>\n</table>\n</div>"
     },
     "metadata": {},
     "execution_count": 13
    }
   ],
   "source": [
    "#dataframe like\n",
    "#resample data set, \n",
    "#take the mean, \n",
    "#take the diff of adjacent entries, \n",
    "#drop na values\n",
    "fj[0][:4]"
   ]
  },
  {
   "cell_type": "code",
   "execution_count": 14,
   "metadata": {},
   "outputs": [
    {
     "output_type": "execute_result",
     "data": {
      "text/plain": [
       "2016-04-11 12:00:01-07:00   -8359.794002\n",
       "2016-04-11 12:00:02-07:00   -5347.395741\n",
       "2016-04-11 12:00:03-07:00    9688.947030\n",
       "2016-04-11 12:00:04-07:00    2918.302132\n",
       "Freq: S, Name: P, dtype: float64"
      ]
     },
     "metadata": {},
     "execution_count": 14
    }
   ],
   "source": [
    "#series of fj\n",
    "fk[0][:4]"
   ]
  },
  {
   "cell_type": "code",
   "execution_count": null,
   "metadata": {},
   "outputs": [],
   "source": [
    "mrr, em_mu, em_x, cdfs_data = \\\n",
    "generate_stochastic_load(fi, fk, '15T', ['1S'], [7, 10, 12, 19])"
   ]
  },
  {
   "cell_type": "code",
   "execution_count": 11,
   "metadata": {},
   "outputs": [],
   "source": []
  },
  {
   "cell_type": "code",
   "execution_count": null,
   "metadata": {},
   "outputs": [],
   "source": []
  },
  {
   "cell_type": "code",
   "execution_count": null,
   "metadata": {},
   "outputs": [],
   "source": []
  }
 ],
 "metadata": {
  "kernelspec": {
   "display_name": "Python 3",
   "language": "python",
   "name": "python3"
  },
  "language_info": {
   "codemirror_mode": {
    "name": "ipython",
    "version": 3
   },
   "file_extension": ".py",
   "mimetype": "text/x-python",
   "name": "python",
   "nbconvert_exporter": "python",
   "pygments_lexer": "ipython3",
   "version": "3.8.5"
  }
 },
 "nbformat": 4,
 "nbformat_minor": 4
}