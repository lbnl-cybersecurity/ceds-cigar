{
 "cells": [
  {
   "cell_type": "code",
   "execution_count": 2,
   "metadata": {},
   "outputs": [],
   "source": [
    "import numpy as np\n",
    "import random \n",
    "\n",
    "room = np.array([\n",
    "    [0, 0, 0, 0, 0],\n",
    "    [0, 0, 0, 0, 0],\n",
    "    [0, 0, 0, 0, 0],\n",
    "    [0, 0, 0, 0, 0],\n",
    "    [0, 0, 0, 0, 0],\n",
    "])\n",
    "\n",
    "room_reward = np.array([\n",
    "    [ 0, -1, -1, -1, -1],\n",
    "    [-1, -1, -1, -1, -1],\n",
    "    [-1, -1, -1, -1, -1],\n",
    "    [-1, -1, -1, -1, -1],\n",
    "    [-1, -1, -1, -1, 10],\n",
    "])\n",
    "\n",
    "action = {\n",
    "    \"move_up\":    np.array([0, -1]),\n",
    "    \"move_down\":  np.array([0,  1]),\n",
    "    \"move_left\":  np.array([-1, 0]),\n",
    "    \"move_right\": np.array([0,  1]),\n",
    "}\n",
    "\n",
    "start_position = np.array([0, 0])\n",
    "goal_position =  np.array([4, 4])\n",
    "\n",
    "def is_legal_move(position, move):\n",
    "    new_position = position + action[move]\n",
    "    if sum(new_position < 0) == 0:\n",
    "        return True\n",
    "    else:\n",
    "        return False\n"
   ]
  },
  {
   "cell_type": "code",
   "execution_count": 4,
   "metadata": {},
   "outputs": [
    {
     "output_type": "execute_result",
     "data": {
      "text/plain": "True"
     },
     "metadata": {},
     "execution_count": 4
    }
   ],
   "source": [
    "#\n",
    "buffer_D = []\n",
    "\n",
    "for i in range(500):\n",
    "    state = np.ran"
   ]
  },
  {
   "cell_type": "code",
   "execution_count": null,
   "metadata": {},
   "outputs": [],
   "source": []
  }
 ],
 "metadata": {
  "language_info": {
   "codemirror_mode": {
    "name": "ipython",
    "version": 3
   },
   "file_extension": ".py",
   "mimetype": "text/x-python",
   "name": "python",
   "nbconvert_exporter": "python",
   "pygments_lexer": "ipython3",
   "version": "3.7.6-final"
  },
  "orig_nbformat": 2,
  "kernelspec": {
   "name": "python37664bitpycigardocumentconda2d9d756b7ec94ffa8f151cd1429edcc4",
   "display_name": "Python 3.7.6 64-bit ('pycigar-document': conda)"
  }
 },
 "nbformat": 4,
 "nbformat_minor": 2
}